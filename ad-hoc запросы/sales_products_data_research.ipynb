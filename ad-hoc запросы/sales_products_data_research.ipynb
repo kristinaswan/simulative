{
 "cells": [
  {
   "cell_type": "markdown",
   "metadata": {},
   "source": [
    "# Исследование набора данных о продажах и продуктах интернет-магазина"
   ]
  },
  {
   "cell_type": "markdown",
   "metadata": {},
   "source": [
    "**Описание проекта**\n",
    "\n",
    "Имеется набор данных о продажах и продуктах интернет-магазина. Перед нами стоит 15 различных вопросов (ad-hoc запросов), ответить на которые можно, проанализировав эти данные.\n",
    "\n",
    "**Задачи исследования**\n",
    "\n",
    "Ответить на вопросы и написать код для решения каждой задачи.\n",
    "\n",
    "**Ход исследования**\n",
    "\n",
    "Ссылка на форму блиц-теста:\n",
    "* https://docs.google.com/forms/d/e/1FAIpQLSfoaggqEAUmL6MK3KWHGeHucqLjEtbu8MbRVtc-hDBgstHbWw/viewform?usp=send_form\n",
    "\n",
    "Входные данные о продажах и продуктах интернет-магазина доступны по ссылкам:\n",
    "\n",
    "* 'sales_data.csv'\n",
    "https://gist.githubusercontent.com/andron23/0675d643fe001b08a66271402a7b609b/raw/231deb6c35c43ca9089b197d94d7d48e093bfb06/sales_data.csv\n",
    "\n",
    "* 'products_data.csv'\n",
    "https://gist.githubusercontent.com/andron23/fc2b28de07d5017f951c559f51fcb286/raw/be9f8cd81b28f3c19d314ef908aa68e9f41ae975/products_data.csv\n",
    "\n",
    "О качестве данных ничего не известно. Поэтому перед тем, как отвечать на вопрсы исследования и делать вывод, понадобится обзор данных.\n",
    "\n",
    "Проверим данные на ошибки и оценим их влияние на исследование. Затем, на этапе предобработки, поищем возможность исправить недочеты в данных.\n",
    "\n",
    "После ответа на поставленные в исследовании вопросы, сделаем общий вывод.\n",
    "\n",
    "Таким образом, исследование пройдёт в четыре этапа:\n",
    "\n",
    "[Этап 1. Загрузка и обзор данных](#1)\n",
    "\n",
    "[1.1. Откроем данные](#2)\\\n",
    "[1.2. Изучим общую информацию](#3)\n",
    "\n",
    "[Этап 2. Предобработка данных](#4)\n",
    "\n",
    "[2.1. Пропуски значений](#5)\\\n",
    "[2.2. Дубликаты](#6)\\\n",
    "[2.3. Исследование данных по столбцам](#7)\n",
    "\n",
    "[Этап 3. Ответы на вопросы исследования](#8)\n",
    "\n",
    "[3.1. В каком регионе было продано наибольшее количество продуктов категории \"Смартфоны\"?](#9)\\\n",
    "[3.2. Какова разница между максимальной и минимальной средней ценой продуктов категории \"Ноутбуки\" между всеми производителями?](#10)\\\n",
    "[3.3. Какой покупатель совершил заказы на наибольшую сумму по всем временам?](#11)\\\n",
    "[3.4. Какова доля продаж продуктов категории \"Планшеты\" от общей выручки за все время?](#12)\\\n",
    "[3.5. Какова разница в средней цене продуктов категории \"Смартфоны\" между двумя самыми крупными регионами по продажам?](#13)\\\n",
    "[3.6. Сколько в среднем уникальных категорий продуктов было продано по всем регионам?](#14)\\\n",
    "[3.7. Какой производитель представлен в наибольшем количестве различных категорий продуктов?](#15)\\\n",
    "[3.8. В каком месяце было продано больше всего продуктов категории \"Планшеты\" в регионе \"Север\"?](#16)\\\n",
    "[3.9. Какой производитель продал продукты на наибольшую сумму в регионе \"Юг\" за март 2023 года?](#17)\\\n",
    "[3.10. Сколько покупателей совершили заказы на продукты хотя бы трех разных категорий?](#18)\\\n",
    "[3.11. Какова доля продаж продуктов производителя \"C\" от общей выручки за все время в регионе \"Север\"?](#19)\\\n",
    "[3.12. Найдите покупателей, которые купили у более чем 15% уникальных производителей.](#20)\\\n",
    "[3.13. Какое максимальное количество продуктов было продано в один заказ?](#21)\\\n",
    "[3.14. Какой производитель имеет самую высокую среднюю цену продукта среди всех категорий?](#22)\\\n",
    "[3.15. Каково общее количество уникальных производителей, чьи продукты были куплены менее чем в 3 регионах?](#23)\n",
    "\n",
    "[Этап 4. Общий вывод](#24)"
   ]
  },
  {
   "cell_type": "markdown",
   "metadata": {},
   "source": [
    "## Этап 1. Загрузка и обзор данных <a id='1'></a>"
   ]
  },
  {
   "cell_type": "markdown",
   "metadata": {},
   "source": [
    "Составим первое впечатление о продажах и продуктах интернет-магазина."
   ]
  },
  {
   "cell_type": "code",
   "execution_count": 1,
   "metadata": {},
   "outputs": [],
   "source": [
    "# Импортируем библиотеки\n",
    "import pandas as pd\n",
    "import numpy\n",
    "from datetime import datetime, timedelta\n",
    "import requests\n",
    "\n",
    "import warnings"
   ]
  },
  {
   "cell_type": "code",
   "execution_count": 2,
   "metadata": {},
   "outputs": [],
   "source": [
    "# Чтобы часть столбцов в дальнейшем не скрывалась, настроим принудительное отображение\n",
    "pd.set_option('display.max_columns', None)\n",
    "# Настроим ширину столбцов\n",
    "pd.set_option('display.max_colwidth', 999)\n",
    "# Настроим отображение чисел с точностью до двух знаков после запятой (до сотых)\n",
    "# 3.514284e+05 — научный формат вывода чисел. Означает 3.51 * 105\n",
    "# pd.set_option('display.float_format', '{:.2f}'.format)\n",
    "# pd.set_option.display.float_format = '{:.2f}'.format"
   ]
  },
  {
   "cell_type": "code",
   "execution_count": 3,
   "metadata": {},
   "outputs": [],
   "source": [
    "warnings.simplefilter(action='ignore', category=Warning)"
   ]
  },
  {
   "cell_type": "markdown",
   "metadata": {},
   "source": [
    "### 1.1. Откроем данные <a id='2'></a>"
   ]
  },
  {
   "cell_type": "code",
   "execution_count": 4,
   "metadata": {},
   "outputs": [],
   "source": [
    "# Прочитаем файлы 'sales_data.csv' и 'products_data.csv' из папки и сохраним их в переменных 'sales' и 'products'\n",
    "# path = r'C:\\Users'\n",
    "# sales = pd.read_csv(r'sales_data.csv', encoding='1251')\n",
    "# products = pd.read_csv(r'products_data.csv', encoding='1251')"
   ]
  },
  {
   "cell_type": "markdown",
   "metadata": {},
   "source": [
    "Воспользуемся библиотекой **requests** (она предоставляет простой в использовании интерфейс для отправки HTTP-запросов и обработки ответов).\\\n",
    "Для скачивания файла можно использовать метод **get()**, который отправляет GET-запрос на указанный URL и возвращает ответ сервера.\\\n",
    "Запишем полученные данные в файл с помощью стандартных средств Python."
   ]
  },
  {
   "cell_type": "code",
   "execution_count": 5,
   "metadata": {},
   "outputs": [
    {
     "data": {
      "text/html": [
       "<div>\n",
       "<style scoped>\n",
       "    .dataframe tbody tr th:only-of-type {\n",
       "        vertical-align: middle;\n",
       "    }\n",
       "\n",
       "    .dataframe tbody tr th {\n",
       "        vertical-align: top;\n",
       "    }\n",
       "\n",
       "    .dataframe thead th {\n",
       "        text-align: right;\n",
       "    }\n",
       "</style>\n",
       "<table border=\"1\" class=\"dataframe\">\n",
       "  <thead>\n",
       "    <tr style=\"text-align: right;\">\n",
       "      <th></th>\n",
       "      <th>order_id</th>\n",
       "      <th>product_id</th>\n",
       "      <th>customer_id</th>\n",
       "      <th>order_date</th>\n",
       "      <th>quantity</th>\n",
       "      <th>price_per_unit</th>\n",
       "      <th>total_price</th>\n",
       "      <th>payment_method</th>\n",
       "      <th>region</th>\n",
       "    </tr>\n",
       "  </thead>\n",
       "  <tbody>\n",
       "    <tr>\n",
       "      <th>0</th>\n",
       "      <td>1</td>\n",
       "      <td>101</td>\n",
       "      <td>1001</td>\n",
       "      <td>2022-02-15</td>\n",
       "      <td>2</td>\n",
       "      <td>500</td>\n",
       "      <td>1000</td>\n",
       "      <td>Карта</td>\n",
       "      <td>Север</td>\n",
       "    </tr>\n",
       "    <tr>\n",
       "      <th>1</th>\n",
       "      <td>2</td>\n",
       "      <td>102</td>\n",
       "      <td>1002</td>\n",
       "      <td>2022-03-20</td>\n",
       "      <td>1</td>\n",
       "      <td>800</td>\n",
       "      <td>800</td>\n",
       "      <td>Наличные</td>\n",
       "      <td>Юг</td>\n",
       "    </tr>\n",
       "    <tr>\n",
       "      <th>2</th>\n",
       "      <td>3</td>\n",
       "      <td>103</td>\n",
       "      <td>1003</td>\n",
       "      <td>2022-03-25</td>\n",
       "      <td>3</td>\n",
       "      <td>300</td>\n",
       "      <td>900</td>\n",
       "      <td>Карта</td>\n",
       "      <td>Запад</td>\n",
       "    </tr>\n",
       "  </tbody>\n",
       "</table>\n",
       "</div>"
      ],
      "text/plain": [
       "   order_id  product_id  customer_id  order_date  quantity  price_per_unit  \\\n",
       "0         1         101         1001  2022-02-15         2             500   \n",
       "1         2         102         1002  2022-03-20         1             800   \n",
       "2         3         103         1003  2022-03-25         3             300   \n",
       "\n",
       "   total_price payment_method region  \n",
       "0         1000          Карта  Север  \n",
       "1          800       Наличные     Юг  \n",
       "2          900          Карта  Запад  "
      ]
     },
     "execution_count": 5,
     "metadata": {},
     "output_type": "execute_result"
    }
   ],
   "source": [
    "# Скачаем по URL файл 'sales_data.csv'\n",
    "url = 'https://gist.githubusercontent.com/andron23/0675d643fe001b08a66271402a7b609b/raw/231deb6c35c43ca9089b197d94d7d48e093bfb06/sales_data.csv'\n",
    "response = requests.get(url)\n",
    "\n",
    "with open('sales_data.csv', 'wb') as file:\n",
    "    file.write(response.content)\n",
    "\n",
    "# Прочитаем файл 'sales_data.csv' и сохраним его в переменной 'sales_data' и выведем первые 3 строки датафрейма\n",
    "sales_data = pd.read_csv('sales_data.csv')\n",
    "sales_data.head(3)"
   ]
  },
  {
   "cell_type": "code",
   "execution_count": 6,
   "metadata": {},
   "outputs": [
    {
     "data": {
      "text/html": [
       "<div>\n",
       "<style scoped>\n",
       "    .dataframe tbody tr th:only-of-type {\n",
       "        vertical-align: middle;\n",
       "    }\n",
       "\n",
       "    .dataframe tbody tr th {\n",
       "        vertical-align: top;\n",
       "    }\n",
       "\n",
       "    .dataframe thead th {\n",
       "        text-align: right;\n",
       "    }\n",
       "</style>\n",
       "<table border=\"1\" class=\"dataframe\">\n",
       "  <thead>\n",
       "    <tr style=\"text-align: right;\">\n",
       "      <th></th>\n",
       "      <th>product_id</th>\n",
       "      <th>product_name</th>\n",
       "      <th>category</th>\n",
       "      <th>manufacturer</th>\n",
       "    </tr>\n",
       "  </thead>\n",
       "  <tbody>\n",
       "    <tr>\n",
       "      <th>0</th>\n",
       "      <td>101</td>\n",
       "      <td>Ноутбук HP Pavilion 15</td>\n",
       "      <td>Ноутбуки</td>\n",
       "      <td>A</td>\n",
       "    </tr>\n",
       "    <tr>\n",
       "      <th>1</th>\n",
       "      <td>102</td>\n",
       "      <td>Смартфон Samsung Galaxy S21</td>\n",
       "      <td>Смартфоны</td>\n",
       "      <td>B</td>\n",
       "    </tr>\n",
       "    <tr>\n",
       "      <th>2</th>\n",
       "      <td>103</td>\n",
       "      <td>Планшет Apple iPad Air</td>\n",
       "      <td>Планшеты</td>\n",
       "      <td>C</td>\n",
       "    </tr>\n",
       "  </tbody>\n",
       "</table>\n",
       "</div>"
      ],
      "text/plain": [
       "   product_id                 product_name   category manufacturer\n",
       "0         101       Ноутбук HP Pavilion 15   Ноутбуки            A\n",
       "1         102  Смартфон Samsung Galaxy S21  Смартфоны            B\n",
       "2         103       Планшет Apple iPad Air   Планшеты            C"
      ]
     },
     "execution_count": 6,
     "metadata": {},
     "output_type": "execute_result"
    }
   ],
   "source": [
    "# Скачаем по URL файл 'products_data.csv'\n",
    "url = 'https://gist.githubusercontent.com/andron23/fc2b28de07d5017f951c559f51fcb286/raw/be9f8cd81b28f3c19d314ef908aa68e9f41ae975/products_data.csv'\n",
    "response = requests.get(url)\n",
    "\n",
    "with open('products_data.csv', 'wb') as file:\n",
    "    file.write(response.content)\n",
    "\n",
    "# Прочитаем файл 'products_data.csv', сохраним его в переменной 'products_data' и выведем первые 3 строки датафрейма\n",
    "products_data = pd.read_csv('products_data.csv')\n",
    "products_data.head(3)"
   ]
  },
  {
   "cell_type": "markdown",
   "metadata": {},
   "source": [
    "### 1.2. Изучим общую информацию <a id='3'></a>"
   ]
  },
  {
   "cell_type": "code",
   "execution_count": 7,
   "metadata": {},
   "outputs": [
    {
     "name": "stdout",
     "output_type": "stream",
     "text": [
      "<class 'pandas.core.frame.DataFrame'>\n",
      "RangeIndex: 40 entries, 0 to 39\n",
      "Data columns (total 9 columns):\n",
      " #   Column          Non-Null Count  Dtype \n",
      "---  ------          --------------  ----- \n",
      " 0   order_id        40 non-null     int64 \n",
      " 1   product_id      40 non-null     int64 \n",
      " 2   customer_id     40 non-null     int64 \n",
      " 3   order_date      40 non-null     object\n",
      " 4   quantity        40 non-null     int64 \n",
      " 5   price_per_unit  40 non-null     int64 \n",
      " 6   total_price     40 non-null     int64 \n",
      " 7   payment_method  40 non-null     object\n",
      " 8   region          40 non-null     object\n",
      "dtypes: int64(6), object(3)\n",
      "memory usage: 2.9+ KB\n"
     ]
    }
   ],
   "source": [
    "# Выведем основную информацию о датафрейме 'sales_data'\n",
    "sales_data.info()"
   ]
  },
  {
   "cell_type": "code",
   "execution_count": 8,
   "metadata": {},
   "outputs": [
    {
     "name": "stdout",
     "output_type": "stream",
     "text": [
      "<class 'pandas.core.frame.DataFrame'>\n",
      "RangeIndex: 30 entries, 0 to 29\n",
      "Data columns (total 4 columns):\n",
      " #   Column        Non-Null Count  Dtype \n",
      "---  ------        --------------  ----- \n",
      " 0   product_id    30 non-null     int64 \n",
      " 1   product_name  30 non-null     object\n",
      " 2   category      30 non-null     object\n",
      " 3   manufacturer  30 non-null     object\n",
      "dtypes: int64(1), object(3)\n",
      "memory usage: 1.1+ KB\n"
     ]
    }
   ],
   "source": [
    "# Выведем основную информацию о датафрейме 'products_data'\n",
    "products_data.info()"
   ]
  },
  {
   "cell_type": "code",
   "execution_count": 9,
   "metadata": {},
   "outputs": [
    {
     "data": {
      "text/html": [
       "<div>\n",
       "<style scoped>\n",
       "    .dataframe tbody tr th:only-of-type {\n",
       "        vertical-align: middle;\n",
       "    }\n",
       "\n",
       "    .dataframe tbody tr th {\n",
       "        vertical-align: top;\n",
       "    }\n",
       "\n",
       "    .dataframe thead th {\n",
       "        text-align: right;\n",
       "    }\n",
       "</style>\n",
       "<table border=\"1\" class=\"dataframe\">\n",
       "  <thead>\n",
       "    <tr style=\"text-align: right;\">\n",
       "      <th></th>\n",
       "      <th>order_id</th>\n",
       "      <th>product_id</th>\n",
       "      <th>customer_id</th>\n",
       "      <th>quantity</th>\n",
       "      <th>price_per_unit</th>\n",
       "      <th>total_price</th>\n",
       "    </tr>\n",
       "  </thead>\n",
       "  <tbody>\n",
       "    <tr>\n",
       "      <th>count</th>\n",
       "      <td>40.000000</td>\n",
       "      <td>40.000000</td>\n",
       "      <td>40.000000</td>\n",
       "      <td>40.000000</td>\n",
       "      <td>40.000000</td>\n",
       "      <td>40.000000</td>\n",
       "    </tr>\n",
       "    <tr>\n",
       "      <th>mean</th>\n",
       "      <td>20.500000</td>\n",
       "      <td>120.500000</td>\n",
       "      <td>1007.325000</td>\n",
       "      <td>1.825000</td>\n",
       "      <td>505.625000</td>\n",
       "      <td>811.250000</td>\n",
       "    </tr>\n",
       "    <tr>\n",
       "      <th>std</th>\n",
       "      <td>11.690452</td>\n",
       "      <td>11.690452</td>\n",
       "      <td>4.763039</td>\n",
       "      <td>0.957762</td>\n",
       "      <td>245.046274</td>\n",
       "      <td>339.586381</td>\n",
       "    </tr>\n",
       "    <tr>\n",
       "      <th>min</th>\n",
       "      <td>1.000000</td>\n",
       "      <td>101.000000</td>\n",
       "      <td>1001.000000</td>\n",
       "      <td>1.000000</td>\n",
       "      <td>150.000000</td>\n",
       "      <td>150.000000</td>\n",
       "    </tr>\n",
       "    <tr>\n",
       "      <th>25%</th>\n",
       "      <td>10.750000</td>\n",
       "      <td>110.750000</td>\n",
       "      <td>1003.000000</td>\n",
       "      <td>1.000000</td>\n",
       "      <td>300.000000</td>\n",
       "      <td>600.000000</td>\n",
       "    </tr>\n",
       "    <tr>\n",
       "      <th>50%</th>\n",
       "      <td>20.500000</td>\n",
       "      <td>120.500000</td>\n",
       "      <td>1007.000000</td>\n",
       "      <td>2.000000</td>\n",
       "      <td>450.000000</td>\n",
       "      <td>800.000000</td>\n",
       "    </tr>\n",
       "    <tr>\n",
       "      <th>75%</th>\n",
       "      <td>30.250000</td>\n",
       "      <td>130.250000</td>\n",
       "      <td>1010.250000</td>\n",
       "      <td>2.000000</td>\n",
       "      <td>700.000000</td>\n",
       "      <td>1000.000000</td>\n",
       "    </tr>\n",
       "    <tr>\n",
       "      <th>max</th>\n",
       "      <td>40.000000</td>\n",
       "      <td>140.000000</td>\n",
       "      <td>1018.000000</td>\n",
       "      <td>4.000000</td>\n",
       "      <td>1100.000000</td>\n",
       "      <td>1500.000000</td>\n",
       "    </tr>\n",
       "  </tbody>\n",
       "</table>\n",
       "</div>"
      ],
      "text/plain": [
       "        order_id  product_id  customer_id   quantity  price_per_unit  \\\n",
       "count  40.000000   40.000000    40.000000  40.000000       40.000000   \n",
       "mean   20.500000  120.500000  1007.325000   1.825000      505.625000   \n",
       "std    11.690452   11.690452     4.763039   0.957762      245.046274   \n",
       "min     1.000000  101.000000  1001.000000   1.000000      150.000000   \n",
       "25%    10.750000  110.750000  1003.000000   1.000000      300.000000   \n",
       "50%    20.500000  120.500000  1007.000000   2.000000      450.000000   \n",
       "75%    30.250000  130.250000  1010.250000   2.000000      700.000000   \n",
       "max    40.000000  140.000000  1018.000000   4.000000     1100.000000   \n",
       "\n",
       "       total_price  \n",
       "count    40.000000  \n",
       "mean    811.250000  \n",
       "std     339.586381  \n",
       "min     150.000000  \n",
       "25%     600.000000  \n",
       "50%     800.000000  \n",
       "75%    1000.000000  \n",
       "max    1500.000000  "
      ]
     },
     "execution_count": 9,
     "metadata": {},
     "output_type": "execute_result"
    }
   ],
   "source": [
    "# Посмотрим описательные статистики датасета 'sales_data'\n",
    "sales_data.describe()"
   ]
  },
  {
   "cell_type": "code",
   "execution_count": 10,
   "metadata": {},
   "outputs": [
    {
     "data": {
      "text/html": [
       "<div>\n",
       "<style scoped>\n",
       "    .dataframe tbody tr th:only-of-type {\n",
       "        vertical-align: middle;\n",
       "    }\n",
       "\n",
       "    .dataframe tbody tr th {\n",
       "        vertical-align: top;\n",
       "    }\n",
       "\n",
       "    .dataframe thead th {\n",
       "        text-align: right;\n",
       "    }\n",
       "</style>\n",
       "<table border=\"1\" class=\"dataframe\">\n",
       "  <thead>\n",
       "    <tr style=\"text-align: right;\">\n",
       "      <th></th>\n",
       "      <th>product_id</th>\n",
       "    </tr>\n",
       "  </thead>\n",
       "  <tbody>\n",
       "    <tr>\n",
       "      <th>count</th>\n",
       "      <td>30.000000</td>\n",
       "    </tr>\n",
       "    <tr>\n",
       "      <th>mean</th>\n",
       "      <td>115.500000</td>\n",
       "    </tr>\n",
       "    <tr>\n",
       "      <th>std</th>\n",
       "      <td>8.803408</td>\n",
       "    </tr>\n",
       "    <tr>\n",
       "      <th>min</th>\n",
       "      <td>101.000000</td>\n",
       "    </tr>\n",
       "    <tr>\n",
       "      <th>25%</th>\n",
       "      <td>108.250000</td>\n",
       "    </tr>\n",
       "    <tr>\n",
       "      <th>50%</th>\n",
       "      <td>115.500000</td>\n",
       "    </tr>\n",
       "    <tr>\n",
       "      <th>75%</th>\n",
       "      <td>122.750000</td>\n",
       "    </tr>\n",
       "    <tr>\n",
       "      <th>max</th>\n",
       "      <td>130.000000</td>\n",
       "    </tr>\n",
       "  </tbody>\n",
       "</table>\n",
       "</div>"
      ],
      "text/plain": [
       "       product_id\n",
       "count   30.000000\n",
       "mean   115.500000\n",
       "std      8.803408\n",
       "min    101.000000\n",
       "25%    108.250000\n",
       "50%    115.500000\n",
       "75%    122.750000\n",
       "max    130.000000"
      ]
     },
     "execution_count": 10,
     "metadata": {},
     "output_type": "execute_result"
    }
   ],
   "source": [
    "# Посмотрим описательные статистики датасета 'products_data'\n",
    "products_data.describe()"
   ]
  },
  {
   "cell_type": "markdown",
   "metadata": {},
   "source": [
    "**Вывод**\n",
    "\n",
    "На первый взгляд данные в хорошем состоянии.\\\n",
    "Продолжим дальнейший анализ."
   ]
  },
  {
   "cell_type": "markdown",
   "metadata": {},
   "source": [
    "## Этап 2. Предобработка данных <a id='4'></a>"
   ]
  },
  {
   "cell_type": "markdown",
   "metadata": {},
   "source": [
    "Поищем пропуски значений и дубликаты, исследуем данные по столбцам."
   ]
  },
  {
   "cell_type": "markdown",
   "metadata": {},
   "source": [
    "### 2.1. Пропуски значений <a id='5'></a>"
   ]
  },
  {
   "cell_type": "code",
   "execution_count": 11,
   "metadata": {},
   "outputs": [
    {
     "data": {
      "text/plain": [
       "order_id          0\n",
       "product_id        0\n",
       "customer_id       0\n",
       "order_date        0\n",
       "quantity          0\n",
       "price_per_unit    0\n",
       "total_price       0\n",
       "payment_method    0\n",
       "region            0\n",
       "dtype: int64"
      ]
     },
     "execution_count": 11,
     "metadata": {},
     "output_type": "execute_result"
    }
   ],
   "source": [
    "# Посчитаем, сколько в таблице 'sales_data' пропущенных значений\n",
    "sales_data.isna().sum()"
   ]
  },
  {
   "cell_type": "code",
   "execution_count": 12,
   "metadata": {},
   "outputs": [
    {
     "data": {
      "text/plain": [
       "product_id      0\n",
       "product_name    0\n",
       "category        0\n",
       "manufacturer    0\n",
       "dtype: int64"
      ]
     },
     "execution_count": 12,
     "metadata": {},
     "output_type": "execute_result"
    }
   ],
   "source": [
    "# Посчитаем, сколько в таблице 'products_data' пропущенных значений\n",
    "products_data.isna().sum()"
   ]
  },
  {
   "cell_type": "markdown",
   "metadata": {},
   "source": [
    "Обзор недостающих значений показывает, что пропусков нет."
   ]
  },
  {
   "cell_type": "markdown",
   "metadata": {},
   "source": [
    "### 2.2. Дубликаты <a id='6'></a>"
   ]
  },
  {
   "cell_type": "code",
   "execution_count": 13,
   "metadata": {},
   "outputs": [
    {
     "data": {
      "text/plain": [
       "0"
      ]
     },
     "execution_count": 13,
     "metadata": {},
     "output_type": "execute_result"
    }
   ],
   "source": [
    "# Посчитаем явные дубликаты в таблице 'sales_data'\n",
    "sales_data.duplicated().sum()"
   ]
  },
  {
   "cell_type": "code",
   "execution_count": 14,
   "metadata": {},
   "outputs": [
    {
     "data": {
      "text/plain": [
       "0"
      ]
     },
     "execution_count": 14,
     "metadata": {},
     "output_type": "execute_result"
    }
   ],
   "source": [
    "# Посчитаем явные дубликаты в таблице 'products_data'\n",
    "products_data.duplicated().sum()"
   ]
  },
  {
   "cell_type": "markdown",
   "metadata": {},
   "source": [
    "Дубликаты отсутствуют."
   ]
  },
  {
   "cell_type": "markdown",
   "metadata": {},
   "source": [
    "### 2.3. Исследование данных по столбцам <a id='7'></a>"
   ]
  },
  {
   "cell_type": "code",
   "execution_count": 15,
   "metadata": {},
   "outputs": [
    {
     "data": {
      "text/html": [
       "<div>\n",
       "<style scoped>\n",
       "    .dataframe tbody tr th:only-of-type {\n",
       "        vertical-align: middle;\n",
       "    }\n",
       "\n",
       "    .dataframe tbody tr th {\n",
       "        vertical-align: top;\n",
       "    }\n",
       "\n",
       "    .dataframe thead th {\n",
       "        text-align: right;\n",
       "    }\n",
       "</style>\n",
       "<table border=\"1\" class=\"dataframe\">\n",
       "  <thead>\n",
       "    <tr style=\"text-align: right;\">\n",
       "      <th></th>\n",
       "      <th>order_id</th>\n",
       "      <th>product_id</th>\n",
       "      <th>customer_id</th>\n",
       "      <th>order_date</th>\n",
       "      <th>quantity</th>\n",
       "      <th>price_per_unit</th>\n",
       "      <th>total_price</th>\n",
       "      <th>payment_method</th>\n",
       "      <th>region</th>\n",
       "    </tr>\n",
       "  </thead>\n",
       "  <tbody>\n",
       "    <tr>\n",
       "      <th>0</th>\n",
       "      <td>1</td>\n",
       "      <td>101</td>\n",
       "      <td>1001</td>\n",
       "      <td>2022-02-15</td>\n",
       "      <td>2</td>\n",
       "      <td>500</td>\n",
       "      <td>1000</td>\n",
       "      <td>Карта</td>\n",
       "      <td>Север</td>\n",
       "    </tr>\n",
       "    <tr>\n",
       "      <th>1</th>\n",
       "      <td>2</td>\n",
       "      <td>102</td>\n",
       "      <td>1002</td>\n",
       "      <td>2022-03-20</td>\n",
       "      <td>1</td>\n",
       "      <td>800</td>\n",
       "      <td>800</td>\n",
       "      <td>Наличные</td>\n",
       "      <td>Юг</td>\n",
       "    </tr>\n",
       "    <tr>\n",
       "      <th>2</th>\n",
       "      <td>3</td>\n",
       "      <td>103</td>\n",
       "      <td>1003</td>\n",
       "      <td>2022-03-25</td>\n",
       "      <td>3</td>\n",
       "      <td>300</td>\n",
       "      <td>900</td>\n",
       "      <td>Карта</td>\n",
       "      <td>Запад</td>\n",
       "    </tr>\n",
       "  </tbody>\n",
       "</table>\n",
       "</div>"
      ],
      "text/plain": [
       "   order_id  product_id  customer_id  order_date  quantity  price_per_unit  \\\n",
       "0         1         101         1001  2022-02-15         2             500   \n",
       "1         2         102         1002  2022-03-20         1             800   \n",
       "2         3         103         1003  2022-03-25         3             300   \n",
       "\n",
       "   total_price payment_method region  \n",
       "0         1000          Карта  Север  \n",
       "1          800       Наличные     Юг  \n",
       "2          900          Карта  Запад  "
      ]
     },
     "execution_count": 15,
     "metadata": {},
     "output_type": "execute_result"
    }
   ],
   "source": [
    "# Выведем первые 3 строки датафрейма 'sales_data'\n",
    "sales_data.head(3)"
   ]
  },
  {
   "cell_type": "code",
   "execution_count": 16,
   "metadata": {},
   "outputs": [],
   "source": [
    "# Преобразуем данные в столбце с датой из значений типа object в datetime\n",
    "sales_data['order_date'] = pd.to_datetime(sales_data['order_date'])"
   ]
  },
  {
   "cell_type": "code",
   "execution_count": 17,
   "metadata": {},
   "outputs": [
    {
     "name": "stdout",
     "output_type": "stream",
     "text": [
      "<class 'pandas.core.frame.DataFrame'>\n",
      "RangeIndex: 40 entries, 0 to 39\n",
      "Data columns (total 9 columns):\n",
      " #   Column          Non-Null Count  Dtype         \n",
      "---  ------          --------------  -----         \n",
      " 0   order_id        40 non-null     int64         \n",
      " 1   product_id      40 non-null     int64         \n",
      " 2   customer_id     40 non-null     int64         \n",
      " 3   order_date      40 non-null     datetime64[ns]\n",
      " 4   quantity        40 non-null     int64         \n",
      " 5   price_per_unit  40 non-null     int64         \n",
      " 6   total_price     40 non-null     int64         \n",
      " 7   payment_method  40 non-null     object        \n",
      " 8   region          40 non-null     object        \n",
      "dtypes: datetime64[ns](1), int64(6), object(2)\n",
      "memory usage: 2.9+ KB\n"
     ]
    }
   ],
   "source": [
    "# Проверим правильность выполнения преобразования\n",
    "sales_data.info()"
   ]
  },
  {
   "cell_type": "code",
   "execution_count": 18,
   "metadata": {},
   "outputs": [
    {
     "data": {
      "text/plain": [
       "1    19\n",
       "2    12\n",
       "3     6\n",
       "4     3\n",
       "Name: quantity, dtype: int64"
      ]
     },
     "execution_count": 18,
     "metadata": {},
     "output_type": "execute_result"
    }
   ],
   "source": [
    "# Посмотрим на уникальные значения 'quantity', посчитаем количество таких строк\n",
    "sales_data['quantity'].value_counts()"
   ]
  },
  {
   "cell_type": "code",
   "execution_count": 19,
   "metadata": {},
   "outputs": [
    {
     "data": {
      "text/plain": [
       "300     6\n",
       "450     3\n",
       "400     3\n",
       "500     3\n",
       "600     3\n",
       "700     3\n",
       "200     3\n",
       "800     2\n",
       "750     2\n",
       "250     2\n",
       "350     2\n",
       "275     1\n",
       "150     1\n",
       "1100    1\n",
       "900     1\n",
       "550     1\n",
       "1000    1\n",
       "650     1\n",
       "950     1\n",
       "Name: price_per_unit, dtype: int64"
      ]
     },
     "execution_count": 19,
     "metadata": {},
     "output_type": "execute_result"
    }
   ],
   "source": [
    "# Посмотрим на уникальные значения 'price_per_unit', посчитаем количество таких строк\n",
    "sales_data['price_per_unit'].value_counts()"
   ]
  },
  {
   "cell_type": "code",
   "execution_count": 20,
   "metadata": {},
   "outputs": [
    {
     "data": {
      "text/plain": [
       "800     5\n",
       "900     4\n",
       "1000    4\n",
       "700     4\n",
       "1200    3\n",
       "1350    2\n",
       "600     2\n",
       "1100    2\n",
       "300     2\n",
       "750     1\n",
       "250     1\n",
       "1400    1\n",
       "950     1\n",
       "500     1\n",
       "650     1\n",
       "550     1\n",
       "200     1\n",
       "1500    1\n",
       "150     1\n",
       "400     1\n",
       "450     1\n",
       "Name: total_price, dtype: int64"
      ]
     },
     "execution_count": 20,
     "metadata": {},
     "output_type": "execute_result"
    }
   ],
   "source": [
    "# Посмотрим на уникальные значения 'total_price', посчитаем количество таких строк\n",
    "sales_data['total_price'].value_counts()"
   ]
  },
  {
   "cell_type": "code",
   "execution_count": 21,
   "metadata": {},
   "outputs": [
    {
     "data": {
      "text/plain": [
       "Карта       27\n",
       "Наличные    13\n",
       "Name: payment_method, dtype: int64"
      ]
     },
     "execution_count": 21,
     "metadata": {},
     "output_type": "execute_result"
    }
   ],
   "source": [
    "# Посмотрим на уникальные значения способа платежа 'payment_method', посчитаем количество таких строк\n",
    "sales_data['payment_method'].value_counts()"
   ]
  },
  {
   "cell_type": "code",
   "execution_count": 22,
   "metadata": {},
   "outputs": [
    {
     "data": {
      "text/plain": [
       "Север     11\n",
       "Юг        11\n",
       "Восток     9\n",
       "Запад      9\n",
       "Name: region, dtype: int64"
      ]
     },
     "execution_count": 22,
     "metadata": {},
     "output_type": "execute_result"
    }
   ],
   "source": [
    "# Посмотрим на уникальные значения региона 'region', посчитаем количество таких строк\n",
    "sales_data['region'].value_counts()"
   ]
  },
  {
   "cell_type": "code",
   "execution_count": 23,
   "metadata": {},
   "outputs": [
    {
     "data": {
      "text/html": [
       "<div>\n",
       "<style scoped>\n",
       "    .dataframe tbody tr th:only-of-type {\n",
       "        vertical-align: middle;\n",
       "    }\n",
       "\n",
       "    .dataframe tbody tr th {\n",
       "        vertical-align: top;\n",
       "    }\n",
       "\n",
       "    .dataframe thead th {\n",
       "        text-align: right;\n",
       "    }\n",
       "</style>\n",
       "<table border=\"1\" class=\"dataframe\">\n",
       "  <thead>\n",
       "    <tr style=\"text-align: right;\">\n",
       "      <th></th>\n",
       "      <th>product_id</th>\n",
       "      <th>product_name</th>\n",
       "      <th>category</th>\n",
       "      <th>manufacturer</th>\n",
       "    </tr>\n",
       "  </thead>\n",
       "  <tbody>\n",
       "    <tr>\n",
       "      <th>0</th>\n",
       "      <td>101</td>\n",
       "      <td>Ноутбук HP Pavilion 15</td>\n",
       "      <td>Ноутбуки</td>\n",
       "      <td>A</td>\n",
       "    </tr>\n",
       "    <tr>\n",
       "      <th>1</th>\n",
       "      <td>102</td>\n",
       "      <td>Смартфон Samsung Galaxy S21</td>\n",
       "      <td>Смартфоны</td>\n",
       "      <td>B</td>\n",
       "    </tr>\n",
       "    <tr>\n",
       "      <th>2</th>\n",
       "      <td>103</td>\n",
       "      <td>Планшет Apple iPad Air</td>\n",
       "      <td>Планшеты</td>\n",
       "      <td>C</td>\n",
       "    </tr>\n",
       "  </tbody>\n",
       "</table>\n",
       "</div>"
      ],
      "text/plain": [
       "   product_id                 product_name   category manufacturer\n",
       "0         101       Ноутбук HP Pavilion 15   Ноутбуки            A\n",
       "1         102  Смартфон Samsung Galaxy S21  Смартфоны            B\n",
       "2         103       Планшет Apple iPad Air   Планшеты            C"
      ]
     },
     "execution_count": 23,
     "metadata": {},
     "output_type": "execute_result"
    }
   ],
   "source": [
    "# Выведем первые 3 строки датафрейма 'products_data'\n",
    "products_data.head(3)"
   ]
  },
  {
   "cell_type": "code",
   "execution_count": 24,
   "metadata": {},
   "outputs": [
    {
     "data": {
      "text/plain": [
       "Ноутбук HP Pavilion 15                1\n",
       "Телевизор Samsung The Frame           1\n",
       "Смартфон Oppo Find X3 Pro             1\n",
       "Телевизор LG OLED CX                  1\n",
       "Телевизор Sony Bravia X900H           1\n",
       "Ноутбук Dell XPS 15                   1\n",
       "Наушники JBL Tune 750BTNC             1\n",
       "Планшет Amazon Fire HD 10             1\n",
       "Наушники Sennheiser HD 660S           1\n",
       "Наушники Sony WH-1000XM4              1\n",
       "Ноутбук Lenovo ThinkPad X1 Carbon     1\n",
       "Наушники Beats Solo Pro               1\n",
       "Планшет Lenovo Tab P11 Pro            1\n",
       "Планшет Apple iPad Air                1\n",
       "Смартфон Google Pixel 6               1\n",
       "Наушники AKG K712 Pro                 1\n",
       "Ноутбук ASUS ROG Zephyrus G14         1\n",
       "Ноутбук Microsoft Surface Laptop 4    1\n",
       "Телевизор Sony A8H OLED               1\n",
       "Планшет Lenovo Yoga Tab 13            1\n",
       "Смартфон OnePlus 9 Pro                1\n",
       "Планшет Huawei MatePad Pro            1\n",
       "Телевизор LG NanoCell NANO90          1\n",
       "Смартфон iPhone 13 Pro                1\n",
       "Ноутбук HP Spectre x360               1\n",
       "Планшет Samsung Galaxy Tab S7         1\n",
       "Наушники Bose QuietComfort 35 II      1\n",
       "Телевизор Samsung QLED Q80T           1\n",
       "Смартфон Samsung Galaxy S21           1\n",
       "Смартфон Xiaomi Mi 11                 1\n",
       "Name: product_name, dtype: int64"
      ]
     },
     "execution_count": 24,
     "metadata": {},
     "output_type": "execute_result"
    }
   ],
   "source": [
    "# Посмотрим на уникальные значения наименования продукта 'product_name', посчитаем количество таких строк\n",
    "products_data['product_name'].value_counts()"
   ]
  },
  {
   "cell_type": "code",
   "execution_count": 25,
   "metadata": {},
   "outputs": [
    {
     "data": {
      "text/plain": [
       "Планшеты      6\n",
       "Смартфоны     6\n",
       "Телевизоры    6\n",
       "Ноутбуки      6\n",
       "Наушники      6\n",
       "Name: category, dtype: int64"
      ]
     },
     "execution_count": 25,
     "metadata": {},
     "output_type": "execute_result"
    }
   ],
   "source": [
    "# Посмотрим на уникальные значения категории товара 'category', посчитаем количество таких строк\n",
    "products_data['category'].value_counts()"
   ]
  },
  {
   "cell_type": "code",
   "execution_count": 26,
   "metadata": {},
   "outputs": [
    {
     "data": {
      "text/plain": [
       "A    6\n",
       "B    6\n",
       "E    6\n",
       "C    6\n",
       "D    6\n",
       "Name: manufacturer, dtype: int64"
      ]
     },
     "execution_count": 26,
     "metadata": {},
     "output_type": "execute_result"
    }
   ],
   "source": [
    "# Посмотрим на уникальные значения 'manufacturer', посчитаем количество таких строк\n",
    "products_data['manufacturer'].value_counts()"
   ]
  },
  {
   "cell_type": "markdown",
   "metadata": {},
   "source": [
    "**Вывод**\n",
    "\n",
    "* Данные находятся в хорошем состоянии — пропущенные значения и дубликаты отсутствуют;\n",
    "* Был проведен обзор данных по столбцам на предмет уникальности значений и количества таких строк."
   ]
  },
  {
   "cell_type": "markdown",
   "metadata": {},
   "source": [
    "## Этап 3. Ответы на вопросы исследования <a id='8'></a>"
   ]
  },
  {
   "cell_type": "markdown",
   "metadata": {},
   "source": [
    "Объединим таблицы 'sales' и 'products'."
   ]
  },
  {
   "cell_type": "code",
   "execution_count": 27,
   "metadata": {},
   "outputs": [
    {
     "name": "stdout",
     "output_type": "stream",
     "text": [
      "40\n",
      "30\n"
     ]
    }
   ],
   "source": [
    "# Сравним длины датафреймов 'sales_data' и 'products_data'\n",
    "print(len(sales_data))\n",
    "print(len(products_data))"
   ]
  },
  {
   "cell_type": "code",
   "execution_count": 28,
   "metadata": {},
   "outputs": [
    {
     "name": "stdout",
     "output_type": "stream",
     "text": [
      "[101 102 103 104 105 106 107 108 109 110 111 112 113 114 115 116 117 118\n",
      " 119 120 121 122 123 124 125 126 127 128 129 130 131 132 133 134 135 136\n",
      " 137 138 139 140]\n",
      "[101 102 103 104 105 106 107 108 109 110 111 112 113 114 115 116 117 118\n",
      " 119 120 121 122 123 124 125 126 127 128 129 130]\n"
     ]
    }
   ],
   "source": [
    "# Выведем уникальные значения 'product_id' датафреймов 'sales_data' и 'products_data'\n",
    "print(sales_data['product_id'].unique())\n",
    "print(products_data['product_id'].unique())"
   ]
  },
  {
   "cell_type": "code",
   "execution_count": 29,
   "metadata": {},
   "outputs": [
    {
     "data": {
      "text/html": [
       "<div>\n",
       "<style scoped>\n",
       "    .dataframe tbody tr th:only-of-type {\n",
       "        vertical-align: middle;\n",
       "    }\n",
       "\n",
       "    .dataframe tbody tr th {\n",
       "        vertical-align: top;\n",
       "    }\n",
       "\n",
       "    .dataframe thead th {\n",
       "        text-align: right;\n",
       "    }\n",
       "</style>\n",
       "<table border=\"1\" class=\"dataframe\">\n",
       "  <thead>\n",
       "    <tr style=\"text-align: right;\">\n",
       "      <th></th>\n",
       "      <th>order_id</th>\n",
       "      <th>product_id</th>\n",
       "      <th>customer_id</th>\n",
       "      <th>order_date</th>\n",
       "      <th>quantity</th>\n",
       "      <th>price_per_unit</th>\n",
       "      <th>total_price</th>\n",
       "      <th>payment_method</th>\n",
       "      <th>region</th>\n",
       "      <th>product_name</th>\n",
       "      <th>category</th>\n",
       "      <th>manufacturer</th>\n",
       "    </tr>\n",
       "  </thead>\n",
       "  <tbody>\n",
       "    <tr>\n",
       "      <th>0</th>\n",
       "      <td>1</td>\n",
       "      <td>101</td>\n",
       "      <td>1001</td>\n",
       "      <td>2022-02-15</td>\n",
       "      <td>2</td>\n",
       "      <td>500</td>\n",
       "      <td>1000</td>\n",
       "      <td>Карта</td>\n",
       "      <td>Север</td>\n",
       "      <td>Ноутбук HP Pavilion 15</td>\n",
       "      <td>Ноутбуки</td>\n",
       "      <td>A</td>\n",
       "    </tr>\n",
       "    <tr>\n",
       "      <th>1</th>\n",
       "      <td>2</td>\n",
       "      <td>102</td>\n",
       "      <td>1002</td>\n",
       "      <td>2022-03-20</td>\n",
       "      <td>1</td>\n",
       "      <td>800</td>\n",
       "      <td>800</td>\n",
       "      <td>Наличные</td>\n",
       "      <td>Юг</td>\n",
       "      <td>Смартфон Samsung Galaxy S21</td>\n",
       "      <td>Смартфоны</td>\n",
       "      <td>B</td>\n",
       "    </tr>\n",
       "    <tr>\n",
       "      <th>2</th>\n",
       "      <td>3</td>\n",
       "      <td>103</td>\n",
       "      <td>1003</td>\n",
       "      <td>2022-03-25</td>\n",
       "      <td>3</td>\n",
       "      <td>300</td>\n",
       "      <td>900</td>\n",
       "      <td>Карта</td>\n",
       "      <td>Запад</td>\n",
       "      <td>Планшет Apple iPad Air</td>\n",
       "      <td>Планшеты</td>\n",
       "      <td>C</td>\n",
       "    </tr>\n",
       "    <tr>\n",
       "      <th>3</th>\n",
       "      <td>4</td>\n",
       "      <td>104</td>\n",
       "      <td>1001</td>\n",
       "      <td>2022-04-10</td>\n",
       "      <td>2</td>\n",
       "      <td>400</td>\n",
       "      <td>800</td>\n",
       "      <td>Карта</td>\n",
       "      <td>Восток</td>\n",
       "      <td>Наушники Sony WH-1000XM4</td>\n",
       "      <td>Наушники</td>\n",
       "      <td>D</td>\n",
       "    </tr>\n",
       "    <tr>\n",
       "      <th>4</th>\n",
       "      <td>5</td>\n",
       "      <td>105</td>\n",
       "      <td>1004</td>\n",
       "      <td>2022-04-15</td>\n",
       "      <td>1</td>\n",
       "      <td>700</td>\n",
       "      <td>700</td>\n",
       "      <td>Наличные</td>\n",
       "      <td>Север</td>\n",
       "      <td>Телевизор LG OLED CX</td>\n",
       "      <td>Телевизоры</td>\n",
       "      <td>E</td>\n",
       "    </tr>\n",
       "    <tr>\n",
       "      <th>5</th>\n",
       "      <td>6</td>\n",
       "      <td>106</td>\n",
       "      <td>1005</td>\n",
       "      <td>2022-05-05</td>\n",
       "      <td>2</td>\n",
       "      <td>600</td>\n",
       "      <td>1200</td>\n",
       "      <td>Карта</td>\n",
       "      <td>Юг</td>\n",
       "      <td>Ноутбук Lenovo ThinkPad X1 Carbon</td>\n",
       "      <td>Ноутбуки</td>\n",
       "      <td>A</td>\n",
       "    </tr>\n",
       "    <tr>\n",
       "      <th>6</th>\n",
       "      <td>7</td>\n",
       "      <td>107</td>\n",
       "      <td>1003</td>\n",
       "      <td>2022-05-20</td>\n",
       "      <td>1</td>\n",
       "      <td>200</td>\n",
       "      <td>200</td>\n",
       "      <td>Наличные</td>\n",
       "      <td>Запад</td>\n",
       "      <td>Смартфон iPhone 13 Pro</td>\n",
       "      <td>Смартфоны</td>\n",
       "      <td>C</td>\n",
       "    </tr>\n",
       "    <tr>\n",
       "      <th>7</th>\n",
       "      <td>8</td>\n",
       "      <td>108</td>\n",
       "      <td>1006</td>\n",
       "      <td>2022-06-01</td>\n",
       "      <td>3</td>\n",
       "      <td>450</td>\n",
       "      <td>1350</td>\n",
       "      <td>Карта</td>\n",
       "      <td>Восток</td>\n",
       "      <td>Планшет Samsung Galaxy Tab S7</td>\n",
       "      <td>Планшеты</td>\n",
       "      <td>B</td>\n",
       "    </tr>\n",
       "    <tr>\n",
       "      <th>8</th>\n",
       "      <td>9</td>\n",
       "      <td>109</td>\n",
       "      <td>1007</td>\n",
       "      <td>2022-06-10</td>\n",
       "      <td>1</td>\n",
       "      <td>1000</td>\n",
       "      <td>1000</td>\n",
       "      <td>Карта</td>\n",
       "      <td>Север</td>\n",
       "      <td>Наушники Bose QuietComfort 35 II</td>\n",
       "      <td>Наушники</td>\n",
       "      <td>E</td>\n",
       "    </tr>\n",
       "    <tr>\n",
       "      <th>9</th>\n",
       "      <td>10</td>\n",
       "      <td>110</td>\n",
       "      <td>1004</td>\n",
       "      <td>2022-06-15</td>\n",
       "      <td>2</td>\n",
       "      <td>350</td>\n",
       "      <td>700</td>\n",
       "      <td>Наличные</td>\n",
       "      <td>Юг</td>\n",
       "      <td>Телевизор Sony Bravia X900H</td>\n",
       "      <td>Телевизоры</td>\n",
       "      <td>D</td>\n",
       "    </tr>\n",
       "    <tr>\n",
       "      <th>10</th>\n",
       "      <td>11</td>\n",
       "      <td>111</td>\n",
       "      <td>1008</td>\n",
       "      <td>2022-07-02</td>\n",
       "      <td>1</td>\n",
       "      <td>750</td>\n",
       "      <td>750</td>\n",
       "      <td>Карта</td>\n",
       "      <td>Запад</td>\n",
       "      <td>Ноутбук Dell XPS 15</td>\n",
       "      <td>Ноутбуки</td>\n",
       "      <td>E</td>\n",
       "    </tr>\n",
       "    <tr>\n",
       "      <th>11</th>\n",
       "      <td>12</td>\n",
       "      <td>112</td>\n",
       "      <td>1009</td>\n",
       "      <td>2022-07-15</td>\n",
       "      <td>4</td>\n",
       "      <td>275</td>\n",
       "      <td>1100</td>\n",
       "      <td>Карта</td>\n",
       "      <td>Восток</td>\n",
       "      <td>Смартфон Xiaomi Mi 11</td>\n",
       "      <td>Смартфоны</td>\n",
       "      <td>D</td>\n",
       "    </tr>\n",
       "    <tr>\n",
       "      <th>12</th>\n",
       "      <td>13</td>\n",
       "      <td>113</td>\n",
       "      <td>1010</td>\n",
       "      <td>2022-08-05</td>\n",
       "      <td>1</td>\n",
       "      <td>900</td>\n",
       "      <td>900</td>\n",
       "      <td>Наличные</td>\n",
       "      <td>Север</td>\n",
       "      <td>Планшет Huawei MatePad Pro</td>\n",
       "      <td>Планшеты</td>\n",
       "      <td>C</td>\n",
       "    </tr>\n",
       "    <tr>\n",
       "      <th>13</th>\n",
       "      <td>14</td>\n",
       "      <td>114</td>\n",
       "      <td>1003</td>\n",
       "      <td>2022-08-10</td>\n",
       "      <td>2</td>\n",
       "      <td>400</td>\n",
       "      <td>800</td>\n",
       "      <td>Карта</td>\n",
       "      <td>Юг</td>\n",
       "      <td>Наушники JBL Tune 750BTNC</td>\n",
       "      <td>Наушники</td>\n",
       "      <td>A</td>\n",
       "    </tr>\n",
       "    <tr>\n",
       "      <th>14</th>\n",
       "      <td>15</td>\n",
       "      <td>115</td>\n",
       "      <td>1011</td>\n",
       "      <td>2022-08-20</td>\n",
       "      <td>1</td>\n",
       "      <td>650</td>\n",
       "      <td>650</td>\n",
       "      <td>Карта</td>\n",
       "      <td>Запад</td>\n",
       "      <td>Телевизор Samsung QLED Q80T</td>\n",
       "      <td>Телевизоры</td>\n",
       "      <td>B</td>\n",
       "    </tr>\n",
       "    <tr>\n",
       "      <th>15</th>\n",
       "      <td>16</td>\n",
       "      <td>116</td>\n",
       "      <td>1012</td>\n",
       "      <td>2022-09-03</td>\n",
       "      <td>3</td>\n",
       "      <td>300</td>\n",
       "      <td>900</td>\n",
       "      <td>Наличные</td>\n",
       "      <td>Восток</td>\n",
       "      <td>Ноутбук ASUS ROG Zephyrus G14</td>\n",
       "      <td>Ноутбуки</td>\n",
       "      <td>C</td>\n",
       "    </tr>\n",
       "    <tr>\n",
       "      <th>16</th>\n",
       "      <td>17</td>\n",
       "      <td>117</td>\n",
       "      <td>1013</td>\n",
       "      <td>2022-09-15</td>\n",
       "      <td>1</td>\n",
       "      <td>550</td>\n",
       "      <td>550</td>\n",
       "      <td>Карта</td>\n",
       "      <td>Север</td>\n",
       "      <td>Смартфон Google Pixel 6</td>\n",
       "      <td>Смартфоны</td>\n",
       "      <td>D</td>\n",
       "    </tr>\n",
       "    <tr>\n",
       "      <th>17</th>\n",
       "      <td>18</td>\n",
       "      <td>118</td>\n",
       "      <td>1014</td>\n",
       "      <td>2022-10-01</td>\n",
       "      <td>2</td>\n",
       "      <td>600</td>\n",
       "      <td>1200</td>\n",
       "      <td>Карта</td>\n",
       "      <td>Юг</td>\n",
       "      <td>Планшет Lenovo Tab P11 Pro</td>\n",
       "      <td>Планшеты</td>\n",
       "      <td>E</td>\n",
       "    </tr>\n",
       "    <tr>\n",
       "      <th>18</th>\n",
       "      <td>19</td>\n",
       "      <td>119</td>\n",
       "      <td>1009</td>\n",
       "      <td>2022-10-10</td>\n",
       "      <td>1</td>\n",
       "      <td>150</td>\n",
       "      <td>150</td>\n",
       "      <td>Наличные</td>\n",
       "      <td>Запад</td>\n",
       "      <td>Наушники Beats Solo Pro</td>\n",
       "      <td>Наушники</td>\n",
       "      <td>A</td>\n",
       "    </tr>\n",
       "    <tr>\n",
       "      <th>19</th>\n",
       "      <td>20</td>\n",
       "      <td>120</td>\n",
       "      <td>1015</td>\n",
       "      <td>2022-11-05</td>\n",
       "      <td>3</td>\n",
       "      <td>450</td>\n",
       "      <td>1350</td>\n",
       "      <td>Карта</td>\n",
       "      <td>Восток</td>\n",
       "      <td>Телевизор Sony A8H OLED</td>\n",
       "      <td>Телевизоры</td>\n",
       "      <td>B</td>\n",
       "    </tr>\n",
       "    <tr>\n",
       "      <th>20</th>\n",
       "      <td>21</td>\n",
       "      <td>121</td>\n",
       "      <td>1001</td>\n",
       "      <td>2022-11-15</td>\n",
       "      <td>1</td>\n",
       "      <td>950</td>\n",
       "      <td>950</td>\n",
       "      <td>Карта</td>\n",
       "      <td>Север</td>\n",
       "      <td>Ноутбук HP Spectre x360</td>\n",
       "      <td>Ноутбуки</td>\n",
       "      <td>C</td>\n",
       "    </tr>\n",
       "    <tr>\n",
       "      <th>21</th>\n",
       "      <td>22</td>\n",
       "      <td>122</td>\n",
       "      <td>1006</td>\n",
       "      <td>2022-12-02</td>\n",
       "      <td>2</td>\n",
       "      <td>300</td>\n",
       "      <td>600</td>\n",
       "      <td>Наличные</td>\n",
       "      <td>Юг</td>\n",
       "      <td>Смартфон OnePlus 9 Pro</td>\n",
       "      <td>Смартфоны</td>\n",
       "      <td>D</td>\n",
       "    </tr>\n",
       "    <tr>\n",
       "      <th>22</th>\n",
       "      <td>23</td>\n",
       "      <td>123</td>\n",
       "      <td>1016</td>\n",
       "      <td>2022-12-10</td>\n",
       "      <td>1</td>\n",
       "      <td>800</td>\n",
       "      <td>800</td>\n",
       "      <td>Карта</td>\n",
       "      <td>Запад</td>\n",
       "      <td>Планшет Amazon Fire HD 10</td>\n",
       "      <td>Планшеты</td>\n",
       "      <td>E</td>\n",
       "    </tr>\n",
       "    <tr>\n",
       "      <th>23</th>\n",
       "      <td>24</td>\n",
       "      <td>124</td>\n",
       "      <td>1003</td>\n",
       "      <td>2023-01-05</td>\n",
       "      <td>3</td>\n",
       "      <td>200</td>\n",
       "      <td>600</td>\n",
       "      <td>Карта</td>\n",
       "      <td>Восток</td>\n",
       "      <td>Наушники Sennheiser HD 660S</td>\n",
       "      <td>Наушники</td>\n",
       "      <td>A</td>\n",
       "    </tr>\n",
       "    <tr>\n",
       "      <th>24</th>\n",
       "      <td>25</td>\n",
       "      <td>125</td>\n",
       "      <td>1010</td>\n",
       "      <td>2023-01-15</td>\n",
       "      <td>1</td>\n",
       "      <td>700</td>\n",
       "      <td>700</td>\n",
       "      <td>Наличные</td>\n",
       "      <td>Север</td>\n",
       "      <td>Телевизор LG NanoCell NANO90</td>\n",
       "      <td>Телевизоры</td>\n",
       "      <td>B</td>\n",
       "    </tr>\n",
       "    <tr>\n",
       "      <th>25</th>\n",
       "      <td>26</td>\n",
       "      <td>126</td>\n",
       "      <td>1007</td>\n",
       "      <td>2023-02-01</td>\n",
       "      <td>2</td>\n",
       "      <td>500</td>\n",
       "      <td>1000</td>\n",
       "      <td>Карта</td>\n",
       "      <td>Юг</td>\n",
       "      <td>Ноутбук Microsoft Surface Laptop 4</td>\n",
       "      <td>Ноутбуки</td>\n",
       "      <td>C</td>\n",
       "    </tr>\n",
       "    <tr>\n",
       "      <th>26</th>\n",
       "      <td>27</td>\n",
       "      <td>127</td>\n",
       "      <td>1017</td>\n",
       "      <td>2023-02-20</td>\n",
       "      <td>1</td>\n",
       "      <td>300</td>\n",
       "      <td>300</td>\n",
       "      <td>Карта</td>\n",
       "      <td>Запад</td>\n",
       "      <td>Смартфон Oppo Find X3 Pro</td>\n",
       "      <td>Смартфоны</td>\n",
       "      <td>D</td>\n",
       "    </tr>\n",
       "    <tr>\n",
       "      <th>27</th>\n",
       "      <td>28</td>\n",
       "      <td>128</td>\n",
       "      <td>1008</td>\n",
       "      <td>2023-03-05</td>\n",
       "      <td>4</td>\n",
       "      <td>250</td>\n",
       "      <td>1000</td>\n",
       "      <td>Наличные</td>\n",
       "      <td>Восток</td>\n",
       "      <td>Планшет Lenovo Yoga Tab 13</td>\n",
       "      <td>Планшеты</td>\n",
       "      <td>E</td>\n",
       "    </tr>\n",
       "    <tr>\n",
       "      <th>28</th>\n",
       "      <td>29</td>\n",
       "      <td>129</td>\n",
       "      <td>1011</td>\n",
       "      <td>2023-03-15</td>\n",
       "      <td>1</td>\n",
       "      <td>1100</td>\n",
       "      <td>1100</td>\n",
       "      <td>Карта</td>\n",
       "      <td>Север</td>\n",
       "      <td>Наушники AKG K712 Pro</td>\n",
       "      <td>Наушники</td>\n",
       "      <td>A</td>\n",
       "    </tr>\n",
       "    <tr>\n",
       "      <th>29</th>\n",
       "      <td>30</td>\n",
       "      <td>130</td>\n",
       "      <td>1018</td>\n",
       "      <td>2023-03-30</td>\n",
       "      <td>2</td>\n",
       "      <td>350</td>\n",
       "      <td>700</td>\n",
       "      <td>Карта</td>\n",
       "      <td>Юг</td>\n",
       "      <td>Телевизор Samsung The Frame</td>\n",
       "      <td>Телевизоры</td>\n",
       "      <td>B</td>\n",
       "    </tr>\n",
       "  </tbody>\n",
       "</table>\n",
       "</div>"
      ],
      "text/plain": [
       "    order_id  product_id  customer_id order_date  quantity  price_per_unit  \\\n",
       "0          1         101         1001 2022-02-15         2             500   \n",
       "1          2         102         1002 2022-03-20         1             800   \n",
       "2          3         103         1003 2022-03-25         3             300   \n",
       "3          4         104         1001 2022-04-10         2             400   \n",
       "4          5         105         1004 2022-04-15         1             700   \n",
       "5          6         106         1005 2022-05-05         2             600   \n",
       "6          7         107         1003 2022-05-20         1             200   \n",
       "7          8         108         1006 2022-06-01         3             450   \n",
       "8          9         109         1007 2022-06-10         1            1000   \n",
       "9         10         110         1004 2022-06-15         2             350   \n",
       "10        11         111         1008 2022-07-02         1             750   \n",
       "11        12         112         1009 2022-07-15         4             275   \n",
       "12        13         113         1010 2022-08-05         1             900   \n",
       "13        14         114         1003 2022-08-10         2             400   \n",
       "14        15         115         1011 2022-08-20         1             650   \n",
       "15        16         116         1012 2022-09-03         3             300   \n",
       "16        17         117         1013 2022-09-15         1             550   \n",
       "17        18         118         1014 2022-10-01         2             600   \n",
       "18        19         119         1009 2022-10-10         1             150   \n",
       "19        20         120         1015 2022-11-05         3             450   \n",
       "20        21         121         1001 2022-11-15         1             950   \n",
       "21        22         122         1006 2022-12-02         2             300   \n",
       "22        23         123         1016 2022-12-10         1             800   \n",
       "23        24         124         1003 2023-01-05         3             200   \n",
       "24        25         125         1010 2023-01-15         1             700   \n",
       "25        26         126         1007 2023-02-01         2             500   \n",
       "26        27         127         1017 2023-02-20         1             300   \n",
       "27        28         128         1008 2023-03-05         4             250   \n",
       "28        29         129         1011 2023-03-15         1            1100   \n",
       "29        30         130         1018 2023-03-30         2             350   \n",
       "\n",
       "    total_price payment_method  region                        product_name  \\\n",
       "0          1000          Карта   Север              Ноутбук HP Pavilion 15   \n",
       "1           800       Наличные      Юг         Смартфон Samsung Galaxy S21   \n",
       "2           900          Карта   Запад              Планшет Apple iPad Air   \n",
       "3           800          Карта  Восток            Наушники Sony WH-1000XM4   \n",
       "4           700       Наличные   Север                Телевизор LG OLED CX   \n",
       "5          1200          Карта      Юг   Ноутбук Lenovo ThinkPad X1 Carbon   \n",
       "6           200       Наличные   Запад              Смартфон iPhone 13 Pro   \n",
       "7          1350          Карта  Восток       Планшет Samsung Galaxy Tab S7   \n",
       "8          1000          Карта   Север    Наушники Bose QuietComfort 35 II   \n",
       "9           700       Наличные      Юг         Телевизор Sony Bravia X900H   \n",
       "10          750          Карта   Запад                 Ноутбук Dell XPS 15   \n",
       "11         1100          Карта  Восток               Смартфон Xiaomi Mi 11   \n",
       "12          900       Наличные   Север          Планшет Huawei MatePad Pro   \n",
       "13          800          Карта      Юг           Наушники JBL Tune 750BTNC   \n",
       "14          650          Карта   Запад         Телевизор Samsung QLED Q80T   \n",
       "15          900       Наличные  Восток       Ноутбук ASUS ROG Zephyrus G14   \n",
       "16          550          Карта   Север             Смартфон Google Pixel 6   \n",
       "17         1200          Карта      Юг          Планшет Lenovo Tab P11 Pro   \n",
       "18          150       Наличные   Запад             Наушники Beats Solo Pro   \n",
       "19         1350          Карта  Восток             Телевизор Sony A8H OLED   \n",
       "20          950          Карта   Север             Ноутбук HP Spectre x360   \n",
       "21          600       Наличные      Юг              Смартфон OnePlus 9 Pro   \n",
       "22          800          Карта   Запад           Планшет Amazon Fire HD 10   \n",
       "23          600          Карта  Восток         Наушники Sennheiser HD 660S   \n",
       "24          700       Наличные   Север        Телевизор LG NanoCell NANO90   \n",
       "25         1000          Карта      Юг  Ноутбук Microsoft Surface Laptop 4   \n",
       "26          300          Карта   Запад           Смартфон Oppo Find X3 Pro   \n",
       "27         1000       Наличные  Восток          Планшет Lenovo Yoga Tab 13   \n",
       "28         1100          Карта   Север               Наушники AKG K712 Pro   \n",
       "29          700          Карта      Юг         Телевизор Samsung The Frame   \n",
       "\n",
       "      category manufacturer  \n",
       "0     Ноутбуки            A  \n",
       "1    Смартфоны            B  \n",
       "2     Планшеты            C  \n",
       "3     Наушники            D  \n",
       "4   Телевизоры            E  \n",
       "5     Ноутбуки            A  \n",
       "6    Смартфоны            C  \n",
       "7     Планшеты            B  \n",
       "8     Наушники            E  \n",
       "9   Телевизоры            D  \n",
       "10    Ноутбуки            E  \n",
       "11   Смартфоны            D  \n",
       "12    Планшеты            C  \n",
       "13    Наушники            A  \n",
       "14  Телевизоры            B  \n",
       "15    Ноутбуки            C  \n",
       "16   Смартфоны            D  \n",
       "17    Планшеты            E  \n",
       "18    Наушники            A  \n",
       "19  Телевизоры            B  \n",
       "20    Ноутбуки            C  \n",
       "21   Смартфоны            D  \n",
       "22    Планшеты            E  \n",
       "23    Наушники            A  \n",
       "24  Телевизоры            B  \n",
       "25    Ноутбуки            C  \n",
       "26   Смартфоны            D  \n",
       "27    Планшеты            E  \n",
       "28    Наушники            A  \n",
       "29  Телевизоры            B  "
      ]
     },
     "execution_count": 29,
     "metadata": {},
     "output_type": "execute_result"
    }
   ],
   "source": [
    "# Объединим датафреймы 'sales_data' и 'products_data'\n",
    "merged_data = sales_data.merge(products_data, on='product_id')\n",
    "merged_data"
   ]
  },
  {
   "cell_type": "markdown",
   "metadata": {},
   "source": [
    "### 3.1. В каком регионе было продано наибольшее количество продуктов категории \"Смартфоны\"? <a id='9'></a>"
   ]
  },
  {
   "cell_type": "code",
   "execution_count": 30,
   "metadata": {},
   "outputs": [
    {
     "data": {
      "text/plain": [
       "'Восток'"
      ]
     },
     "execution_count": 30,
     "metadata": {},
     "output_type": "execute_result"
    }
   ],
   "source": [
    "region_with_most_smartphone_sales = (\n",
    "    merged_data.\n",
    "    query('category  == \"Смартфоны\"').\n",
    "    groupby('region')['quantity'].\n",
    "    sum().\n",
    "    idxmax()\n",
    ")\n",
    "region_with_most_smartphone_sales"
   ]
  },
  {
   "cell_type": "markdown",
   "metadata": {},
   "source": [
    "**Ответ:** \n",
    "* Наибольшее количество продуктов категории \"Смартфоны\" было продано в регионе 'Восток'."
   ]
  },
  {
   "cell_type": "markdown",
   "metadata": {},
   "source": [
    "### 3.2. Какова разница между максимальной и минимальной средней ценой продуктов категории \"Ноутбуки\" между всеми производителями? <a id='10'></a>"
   ]
  },
  {
   "cell_type": "markdown",
   "metadata": {},
   "source": [
    " Ответ округлите до целых."
   ]
  },
  {
   "cell_type": "code",
   "execution_count": 80,
   "metadata": {},
   "outputs": [
    {
     "data": {
      "text/plain": [
       "200"
      ]
     },
     "execution_count": 80,
     "metadata": {},
     "output_type": "execute_result"
    }
   ],
   "source": [
    "manufacturer_avg_price = (\n",
    "    merged_data.\n",
    "    query('category == \"Ноутбуки\"').\n",
    "    groupby('manufacturer')['price_per_unit'].\n",
    "    mean()\n",
    ")\n",
    "round(max(manufacturer_avg_price) - min(manufacturer_avg_price))"
   ]
  },
  {
   "cell_type": "markdown",
   "metadata": {},
   "source": [
    "**Ответ:**\n",
    "* Разница между макс. и мин. средней ценой продуктов категории \"Ноутбуки\" между всеми производителями равна 200 у.е.."
   ]
  },
  {
   "cell_type": "markdown",
   "metadata": {},
   "source": [
    "### 3.3. Какой покупатель совершил заказы на наибольшую сумму по всем временам? <a id='11'></a>"
   ]
  },
  {
   "cell_type": "code",
   "execution_count": 108,
   "metadata": {},
   "outputs": [
    {
     "data": {
      "text/plain": [
       "1003"
      ]
     },
     "execution_count": 108,
     "metadata": {},
     "output_type": "execute_result"
    }
   ],
   "source": [
    "top_spending_customer = (\n",
    "    sales_data.\n",
    "    groupby('customer_id')['total_price'].\n",
    "    sum().\n",
    "    idxmax()\n",
    ")\n",
    "top_spending_customer"
   ]
  },
  {
   "cell_type": "markdown",
   "metadata": {},
   "source": [
    "**Ответ:**\n",
    "* Покупатель c customer_id = 1003 совершил заказы на наибольшую сумму по всем временам."
   ]
  },
  {
   "cell_type": "markdown",
   "metadata": {},
   "source": [
    "### 3.4. Какова доля продаж продуктов категории \"Планшеты\" от общей выручки за все время? <a id='12'></a>"
   ]
  },
  {
   "cell_type": "markdown",
   "metadata": {},
   "source": [
    "Ответ округлите до 2 знака после запятой. Разделитель разряда — точка."
   ]
  },
  {
   "cell_type": "code",
   "execution_count": 82,
   "metadata": {},
   "outputs": [
    {
     "data": {
      "text/plain": [
       "0.25"
      ]
     },
     "execution_count": 82,
     "metadata": {},
     "output_type": "execute_result"
    }
   ],
   "source": [
    "tablets_revenue_ratio = (\n",
    "    merged_data.\n",
    "    query('category == \"Планшеты\"')['total_price'].\n",
    "    sum() / merged_data['total_price'].\n",
    "    sum()\n",
    ")\n",
    "round(tablets_revenue_ratio, 2)"
   ]
  },
  {
   "cell_type": "markdown",
   "metadata": {},
   "source": [
    "**Ответ:**\n",
    "* Доля продаж продуктов категории \"Планшеты\" от общей выручки за все время равна 0.25."
   ]
  },
  {
   "cell_type": "markdown",
   "metadata": {},
   "source": [
    "### 3.5. Какова разница в средней цене продуктов категории \"Смартфоны\" между двумя самыми крупными регионами по продажам? <a id='13'></a>"
   ]
  },
  {
   "cell_type": "markdown",
   "metadata": {},
   "source": [
    "Ответ округлите до целых."
   ]
  },
  {
   "cell_type": "code",
   "execution_count": 83,
   "metadata": {},
   "outputs": [
    {
     "data": {
      "text/plain": [
       "region\n",
       "Восток    7100\n",
       "Юг        7000\n",
       "Name: total_price, dtype: int64"
      ]
     },
     "execution_count": 83,
     "metadata": {},
     "output_type": "execute_result"
    }
   ],
   "source": [
    "top_2_regions = (\n",
    "    merged_data.\n",
    "    groupby('region')['total_price'].\n",
    "    sum().\n",
    "    nlargest(2)\n",
    ")\n",
    "top_2_regions"
   ]
  },
  {
   "cell_type": "code",
   "execution_count": 84,
   "metadata": {},
   "outputs": [
    {
     "data": {
      "text/html": [
       "<div>\n",
       "<style scoped>\n",
       "    .dataframe tbody tr th:only-of-type {\n",
       "        vertical-align: middle;\n",
       "    }\n",
       "\n",
       "    .dataframe tbody tr th {\n",
       "        vertical-align: top;\n",
       "    }\n",
       "\n",
       "    .dataframe thead th {\n",
       "        text-align: right;\n",
       "    }\n",
       "</style>\n",
       "<table border=\"1\" class=\"dataframe\">\n",
       "  <thead>\n",
       "    <tr style=\"text-align: right;\">\n",
       "      <th></th>\n",
       "      <th>order_id</th>\n",
       "      <th>product_id</th>\n",
       "      <th>customer_id</th>\n",
       "      <th>order_date</th>\n",
       "      <th>quantity</th>\n",
       "      <th>price_per_unit</th>\n",
       "      <th>total_price</th>\n",
       "      <th>payment_method</th>\n",
       "      <th>region</th>\n",
       "      <th>product_name</th>\n",
       "      <th>category</th>\n",
       "      <th>manufacturer</th>\n",
       "    </tr>\n",
       "  </thead>\n",
       "  <tbody>\n",
       "    <tr>\n",
       "      <th>1</th>\n",
       "      <td>2</td>\n",
       "      <td>102</td>\n",
       "      <td>1002</td>\n",
       "      <td>2022-03-20</td>\n",
       "      <td>1</td>\n",
       "      <td>800</td>\n",
       "      <td>800</td>\n",
       "      <td>Наличные</td>\n",
       "      <td>Юг</td>\n",
       "      <td>Смартфон Samsung Galaxy S21</td>\n",
       "      <td>Смартфоны</td>\n",
       "      <td>B</td>\n",
       "    </tr>\n",
       "    <tr>\n",
       "      <th>11</th>\n",
       "      <td>12</td>\n",
       "      <td>112</td>\n",
       "      <td>1009</td>\n",
       "      <td>2022-07-15</td>\n",
       "      <td>4</td>\n",
       "      <td>275</td>\n",
       "      <td>1100</td>\n",
       "      <td>Карта</td>\n",
       "      <td>Восток</td>\n",
       "      <td>Смартфон Xiaomi Mi 11</td>\n",
       "      <td>Смартфоны</td>\n",
       "      <td>D</td>\n",
       "    </tr>\n",
       "    <tr>\n",
       "      <th>21</th>\n",
       "      <td>22</td>\n",
       "      <td>122</td>\n",
       "      <td>1006</td>\n",
       "      <td>2022-12-02</td>\n",
       "      <td>2</td>\n",
       "      <td>300</td>\n",
       "      <td>600</td>\n",
       "      <td>Наличные</td>\n",
       "      <td>Юг</td>\n",
       "      <td>Смартфон OnePlus 9 Pro</td>\n",
       "      <td>Смартфоны</td>\n",
       "      <td>D</td>\n",
       "    </tr>\n",
       "  </tbody>\n",
       "</table>\n",
       "</div>"
      ],
      "text/plain": [
       "    order_id  product_id  customer_id order_date  quantity  price_per_unit  \\\n",
       "1          2         102         1002 2022-03-20         1             800   \n",
       "11        12         112         1009 2022-07-15         4             275   \n",
       "21        22         122         1006 2022-12-02         2             300   \n",
       "\n",
       "    total_price payment_method  region                 product_name  \\\n",
       "1           800       Наличные      Юг  Смартфон Samsung Galaxy S21   \n",
       "11         1100          Карта  Восток        Смартфон Xiaomi Mi 11   \n",
       "21          600       Наличные      Юг       Смартфон OnePlus 9 Pro   \n",
       "\n",
       "     category manufacturer  \n",
       "1   Смартфоны            B  \n",
       "11  Смартфоны            D  \n",
       "21  Смартфоны            D  "
      ]
     },
     "execution_count": 84,
     "metadata": {},
     "output_type": "execute_result"
    }
   ],
   "source": [
    "top_regions_smartphones = (\n",
    "    merged_data[(merged_data['region'].\n",
    "                 isin(top_2_regions.index)) & (merged_data['category'] == 'Смартфоны')]\n",
    ")\n",
    "top_regions_smartphones"
   ]
  },
  {
   "cell_type": "code",
   "execution_count": 85,
   "metadata": {},
   "outputs": [
    {
     "data": {
      "text/plain": [
       "275.0"
      ]
     },
     "execution_count": 85,
     "metadata": {},
     "output_type": "execute_result"
    }
   ],
   "source": [
    "price_difference = (\n",
    "    top_regions_smartphones.\n",
    "    groupby('region')['price_per_unit'].\n",
    "    mean().\n",
    "    diff().\n",
    "    abs().\n",
    "    iloc[-1]\n",
    ")\n",
    "price_difference"
   ]
  },
  {
   "cell_type": "markdown",
   "metadata": {},
   "source": [
    "**Ответ:**\n",
    "* Разница в средней цене продуктов категории \"Смартфоны\" между двумя самыми крупными регионами по продажам (Востоком и Югом) равна 275."
   ]
  },
  {
   "cell_type": "markdown",
   "metadata": {},
   "source": [
    "### 3.6. Сколько в среднем уникальных категорий продуктов было продано по всем регионам? <a id='14'></a>"
   ]
  },
  {
   "cell_type": "code",
   "execution_count": 86,
   "metadata": {},
   "outputs": [
    {
     "data": {
      "text/plain": [
       "5.0"
      ]
     },
     "execution_count": 86,
     "metadata": {},
     "output_type": "execute_result"
    }
   ],
   "source": [
    "unique_categories_per_region = (\n",
    "    merged_data.\n",
    "    groupby('region')['category'].\n",
    "    nunique().\n",
    "    mean()\n",
    ")\n",
    "unique_categories_per_region"
   ]
  },
  {
   "cell_type": "markdown",
   "metadata": {},
   "source": [
    "**Ответ:**\n",
    "* В среднем по всем регионам было продано 5 уникальных категорий продуктов."
   ]
  },
  {
   "cell_type": "markdown",
   "metadata": {},
   "source": [
    "### 3.7. Какой производитель представлен в наибольшем количестве различных категорий продуктов? <a id='15'></a>"
   ]
  },
  {
   "cell_type": "code",
   "execution_count": 38,
   "metadata": {},
   "outputs": [
    {
     "data": {
      "text/plain": [
       "'E'"
      ]
     },
     "execution_count": 38,
     "metadata": {},
     "output_type": "execute_result"
    }
   ],
   "source": [
    "manufacturer_with_most_unique_categories = (\n",
    "    merged_data.\n",
    "    groupby('manufacturer')['category'].\n",
    "    nunique().\n",
    "    idxmax()\n",
    ")\n",
    "manufacturer_with_most_unique_categories"
   ]
  },
  {
   "cell_type": "markdown",
   "metadata": {},
   "source": [
    "**Ответ:**\n",
    "* Производитель 'E' представлен в наибольшем количестве различных категорий продуктов."
   ]
  },
  {
   "cell_type": "markdown",
   "metadata": {},
   "source": [
    "### 3.8. В каком месяце было продано больше всего продуктов категории \"Планшеты\" в регионе \"Север\"? <a id='16'></a>"
   ]
  },
  {
   "cell_type": "code",
   "execution_count": 87,
   "metadata": {},
   "outputs": [
    {
     "data": {
      "text/html": [
       "<div>\n",
       "<style scoped>\n",
       "    .dataframe tbody tr th:only-of-type {\n",
       "        vertical-align: middle;\n",
       "    }\n",
       "\n",
       "    .dataframe tbody tr th {\n",
       "        vertical-align: top;\n",
       "    }\n",
       "\n",
       "    .dataframe thead th {\n",
       "        text-align: right;\n",
       "    }\n",
       "</style>\n",
       "<table border=\"1\" class=\"dataframe\">\n",
       "  <thead>\n",
       "    <tr style=\"text-align: right;\">\n",
       "      <th></th>\n",
       "      <th>order_id</th>\n",
       "      <th>product_id</th>\n",
       "      <th>customer_id</th>\n",
       "      <th>order_date</th>\n",
       "      <th>quantity</th>\n",
       "      <th>price_per_unit</th>\n",
       "      <th>total_price</th>\n",
       "      <th>payment_method</th>\n",
       "      <th>region</th>\n",
       "      <th>product_name</th>\n",
       "      <th>category</th>\n",
       "      <th>manufacturer</th>\n",
       "    </tr>\n",
       "  </thead>\n",
       "  <tbody>\n",
       "    <tr>\n",
       "      <th>12</th>\n",
       "      <td>13</td>\n",
       "      <td>113</td>\n",
       "      <td>1010</td>\n",
       "      <td>2022-08-05</td>\n",
       "      <td>1</td>\n",
       "      <td>900</td>\n",
       "      <td>900</td>\n",
       "      <td>Наличные</td>\n",
       "      <td>Север</td>\n",
       "      <td>Планшет Huawei MatePad Pro</td>\n",
       "      <td>Планшеты</td>\n",
       "      <td>C</td>\n",
       "    </tr>\n",
       "  </tbody>\n",
       "</table>\n",
       "</div>"
      ],
      "text/plain": [
       "    order_id  product_id  customer_id order_date  quantity  price_per_unit  \\\n",
       "12        13         113         1010 2022-08-05         1             900   \n",
       "\n",
       "    total_price payment_method region                product_name  category  \\\n",
       "12          900       Наличные  Север  Планшет Huawei MatePad Pro  Планшеты   \n",
       "\n",
       "   manufacturer  \n",
       "12            C  "
      ]
     },
     "execution_count": 87,
     "metadata": {},
     "output_type": "execute_result"
    }
   ],
   "source": [
    "north_tablets_data = (\n",
    "    merged_data.\n",
    "    query('category == \"Планшеты\" & region == \"Север\"')\n",
    ")\n",
    "north_tablets_data"
   ]
  },
  {
   "cell_type": "code",
   "execution_count": 88,
   "metadata": {},
   "outputs": [
    {
     "data": {
      "text/html": [
       "<div>\n",
       "<style scoped>\n",
       "    .dataframe tbody tr th:only-of-type {\n",
       "        vertical-align: middle;\n",
       "    }\n",
       "\n",
       "    .dataframe tbody tr th {\n",
       "        vertical-align: top;\n",
       "    }\n",
       "\n",
       "    .dataframe thead th {\n",
       "        text-align: right;\n",
       "    }\n",
       "</style>\n",
       "<table border=\"1\" class=\"dataframe\">\n",
       "  <thead>\n",
       "    <tr style=\"text-align: right;\">\n",
       "      <th></th>\n",
       "      <th>order_id</th>\n",
       "      <th>product_id</th>\n",
       "      <th>customer_id</th>\n",
       "      <th>order_date</th>\n",
       "      <th>quantity</th>\n",
       "      <th>price_per_unit</th>\n",
       "      <th>total_price</th>\n",
       "      <th>payment_method</th>\n",
       "      <th>region</th>\n",
       "      <th>product_name</th>\n",
       "      <th>category</th>\n",
       "      <th>manufacturer</th>\n",
       "      <th>month</th>\n",
       "    </tr>\n",
       "  </thead>\n",
       "  <tbody>\n",
       "    <tr>\n",
       "      <th>12</th>\n",
       "      <td>13</td>\n",
       "      <td>113</td>\n",
       "      <td>1010</td>\n",
       "      <td>2022-08-05</td>\n",
       "      <td>1</td>\n",
       "      <td>900</td>\n",
       "      <td>900</td>\n",
       "      <td>Наличные</td>\n",
       "      <td>Север</td>\n",
       "      <td>Планшет Huawei MatePad Pro</td>\n",
       "      <td>Планшеты</td>\n",
       "      <td>C</td>\n",
       "      <td>8</td>\n",
       "    </tr>\n",
       "  </tbody>\n",
       "</table>\n",
       "</div>"
      ],
      "text/plain": [
       "    order_id  product_id  customer_id order_date  quantity  price_per_unit  \\\n",
       "12        13         113         1010 2022-08-05         1             900   \n",
       "\n",
       "    total_price payment_method region                product_name  category  \\\n",
       "12          900       Наличные  Север  Планшет Huawei MatePad Pro  Планшеты   \n",
       "\n",
       "   manufacturer  month  \n",
       "12            C      8  "
      ]
     },
     "execution_count": 88,
     "metadata": {},
     "output_type": "execute_result"
    }
   ],
   "source": [
    "north_tablets_data['month'] = (\n",
    "    north_tablets_data['order_date'].\n",
    "    dt.\n",
    "    month\n",
    ")\n",
    "north_tablets_data"
   ]
  },
  {
   "cell_type": "code",
   "execution_count": 89,
   "metadata": {},
   "outputs": [
    {
     "data": {
      "text/plain": [
       "8"
      ]
     },
     "execution_count": 89,
     "metadata": {},
     "output_type": "execute_result"
    }
   ],
   "source": [
    "month_with_most_north_tablet_sales = (\n",
    "    north_tablets_data.\n",
    "    groupby('month')['quantity'].\n",
    "    sum().\n",
    "    idxmax()\n",
    ")\n",
    "month_with_most_north_tablet_sales"
   ]
  },
  {
   "cell_type": "markdown",
   "metadata": {},
   "source": [
    "**Ответ:**\n",
    "* В 8 месяце (августе) было продано больше всего продуктов категории \"Планшеты\" в регионе \"Север\"."
   ]
  },
  {
   "cell_type": "markdown",
   "metadata": {},
   "source": [
    "### 3.9. Какой производитель продал продукты на наибольшую сумму в регионе \"Юг\" за март 2023 года? <a id='17'></a>"
   ]
  },
  {
   "cell_type": "code",
   "execution_count": 90,
   "metadata": {},
   "outputs": [
    {
     "data": {
      "text/html": [
       "<div>\n",
       "<style scoped>\n",
       "    .dataframe tbody tr th:only-of-type {\n",
       "        vertical-align: middle;\n",
       "    }\n",
       "\n",
       "    .dataframe tbody tr th {\n",
       "        vertical-align: top;\n",
       "    }\n",
       "\n",
       "    .dataframe thead th {\n",
       "        text-align: right;\n",
       "    }\n",
       "</style>\n",
       "<table border=\"1\" class=\"dataframe\">\n",
       "  <thead>\n",
       "    <tr style=\"text-align: right;\">\n",
       "      <th></th>\n",
       "      <th>order_id</th>\n",
       "      <th>product_id</th>\n",
       "      <th>customer_id</th>\n",
       "      <th>order_date</th>\n",
       "      <th>quantity</th>\n",
       "      <th>price_per_unit</th>\n",
       "      <th>total_price</th>\n",
       "      <th>payment_method</th>\n",
       "      <th>region</th>\n",
       "      <th>product_name</th>\n",
       "      <th>category</th>\n",
       "      <th>manufacturer</th>\n",
       "    </tr>\n",
       "  </thead>\n",
       "  <tbody>\n",
       "    <tr>\n",
       "      <th>29</th>\n",
       "      <td>30</td>\n",
       "      <td>130</td>\n",
       "      <td>1018</td>\n",
       "      <td>2023-03-30</td>\n",
       "      <td>2</td>\n",
       "      <td>350</td>\n",
       "      <td>700</td>\n",
       "      <td>Карта</td>\n",
       "      <td>Юг</td>\n",
       "      <td>Телевизор Samsung The Frame</td>\n",
       "      <td>Телевизоры</td>\n",
       "      <td>B</td>\n",
       "    </tr>\n",
       "  </tbody>\n",
       "</table>\n",
       "</div>"
      ],
      "text/plain": [
       "    order_id  product_id  customer_id order_date  quantity  price_per_unit  \\\n",
       "29        30         130         1018 2023-03-30         2             350   \n",
       "\n",
       "    total_price payment_method region                 product_name  \\\n",
       "29          700          Карта     Юг  Телевизор Samsung The Frame   \n",
       "\n",
       "      category manufacturer  \n",
       "29  Телевизоры            B  "
      ]
     },
     "execution_count": 90,
     "metadata": {},
     "output_type": "execute_result"
    }
   ],
   "source": [
    "south_march_2023_data = (\n",
    "    merged_data[(merged_data['region'] == 'Юг') & \n",
    "                (merged_data['order_date'].dt.month == 3) & \n",
    "                (merged_data['order_date'].dt.year == 2023)]\n",
    ")\n",
    "south_march_2023_data"
   ]
  },
  {
   "cell_type": "code",
   "execution_count": 91,
   "metadata": {},
   "outputs": [
    {
     "data": {
      "text/plain": [
       "'B'"
      ]
     },
     "execution_count": 91,
     "metadata": {},
     "output_type": "execute_result"
    }
   ],
   "source": [
    "manufacturer_with_highest_revenue = (\n",
    "    south_march_2023_data.\n",
    "    groupby('manufacturer')['total_price'].\n",
    "    sum().\n",
    "    idxmax()\n",
    ")\n",
    "manufacturer_with_highest_revenue"
   ]
  },
  {
   "cell_type": "markdown",
   "metadata": {},
   "source": [
    "**Ответ:**\n",
    "* Производитель 'B' продал продукты на наибольшую сумму в регионе \"Юг\" за март 2023 года."
   ]
  },
  {
   "cell_type": "markdown",
   "metadata": {},
   "source": [
    "### 3.10. Сколько покупателей совершили заказы на продукты хотя бы трех разных категорий? <a id='18'></a>"
   ]
  },
  {
   "cell_type": "code",
   "execution_count": 92,
   "metadata": {},
   "outputs": [
    {
     "data": {
      "text/plain": [
       "customer_id\n",
       "1001    2\n",
       "1002    1\n",
       "1003    3\n",
       "1004    1\n",
       "1005    1\n",
       "1006    2\n",
       "1007    2\n",
       "1008    2\n",
       "1009    2\n",
       "1010    2\n",
       "1011    2\n",
       "1012    1\n",
       "1013    1\n",
       "1014    1\n",
       "1015    1\n",
       "1016    1\n",
       "1017    1\n",
       "1018    1\n",
       "Name: category, dtype: int64"
      ]
     },
     "execution_count": 92,
     "metadata": {},
     "output_type": "execute_result"
    }
   ],
   "source": [
    "customer_unique_categories = (\n",
    "    merged_data.\n",
    "    groupby('customer_id')['category'].\n",
    "    nunique()\n",
    ")\n",
    "customer_unique_categories"
   ]
  },
  {
   "cell_type": "code",
   "execution_count": 93,
   "metadata": {},
   "outputs": [
    {
     "data": {
      "text/plain": [
       "1"
      ]
     },
     "execution_count": 93,
     "metadata": {},
     "output_type": "execute_result"
    }
   ],
   "source": [
    "customers_with_multiple_categories = (\n",
    "    customer_unique_categories[customer_unique_categories >= 3].\n",
    "    count()\n",
    ")\n",
    "# num_customers_with_multiple_categories = len(customers_with_multiple_categories)\n",
    "num_customers_with_multiple_categories"
   ]
  },
  {
   "cell_type": "markdown",
   "metadata": {},
   "source": [
    "**Ответ:**\n",
    "* 1 покупатель совершил заказы на продукты хотя бы трех разных категорий."
   ]
  },
  {
   "cell_type": "markdown",
   "metadata": {},
   "source": [
    "### 3.11. Какова доля продаж продуктов производителя \"C\" от общей выручки за все время в регионе \"Север\"? <a id='19'></a>"
   ]
  },
  {
   "cell_type": "markdown",
   "metadata": {},
   "source": [
    "Ответ округлите до 2 знака после запятой. В качестве разделителя разрядов используйте точку."
   ]
  },
  {
   "cell_type": "code",
   "execution_count": 95,
   "metadata": {},
   "outputs": [
    {
     "data": {
      "text/plain": [
       "0.27"
      ]
     },
     "execution_count": 95,
     "metadata": {},
     "output_type": "execute_result"
    }
   ],
   "source": [
    "revenue_ratio_manufacturer_c_north = (\n",
    "    merged_data.\n",
    "    query('manufacturer == \"C\" & region == \"Север\"')['total_price'].sum() / \n",
    "    merged_data.query('region == \"Север\"')['total_price'].\n",
    "    sum()\n",
    ")\n",
    "round(revenue_ratio_manufacturer_c_north, 2)"
   ]
  },
  {
   "cell_type": "markdown",
   "metadata": {},
   "source": [
    "**Ответ:**\n",
    "* Доля продаж продуктов производителя \"C\" от общей выручки за все время в регионе \"Север\" равна 0.27."
   ]
  },
  {
   "cell_type": "markdown",
   "metadata": {},
   "source": [
    "### 3.12. Найдите покупателей, которые купили у более чем 15% уникальных производителей. <a id='20'></a>"
   ]
  },
  {
   "cell_type": "markdown",
   "metadata": {},
   "source": [
    "Примечание: Уникальными производителями считайте уникальную связку \"Категория = Производитель\"."
   ]
  },
  {
   "cell_type": "markdown",
   "metadata": {},
   "source": [
    "Если таких покупателей несколько — напишите их через запятую с пробелом в порядке возрастания. "
   ]
  },
  {
   "cell_type": "code",
   "execution_count": 97,
   "metadata": {},
   "outputs": [
    {
     "data": {
      "text/plain": [
       "15"
      ]
     },
     "execution_count": 97,
     "metadata": {},
     "output_type": "execute_result"
    }
   ],
   "source": [
    "total_manufactures = (\n",
    "    int(merged_data.\n",
    "        groupby(['category', 'manufacturer'])['manufacturer'].\n",
    "        agg({'nunique'}).\n",
    "        sum()\n",
    "       )\n",
    ")\n",
    "total_manufactures"
   ]
  },
  {
   "cell_type": "code",
   "execution_count": 98,
   "metadata": {},
   "outputs": [
    {
     "data": {
      "text/html": [
       "<div>\n",
       "<style scoped>\n",
       "    .dataframe tbody tr th:only-of-type {\n",
       "        vertical-align: middle;\n",
       "    }\n",
       "\n",
       "    .dataframe tbody tr th {\n",
       "        vertical-align: top;\n",
       "    }\n",
       "\n",
       "    .dataframe thead th {\n",
       "        text-align: right;\n",
       "    }\n",
       "</style>\n",
       "<table border=\"1\" class=\"dataframe\">\n",
       "  <thead>\n",
       "    <tr style=\"text-align: right;\">\n",
       "      <th></th>\n",
       "      <th></th>\n",
       "      <th></th>\n",
       "      <th>nunique</th>\n",
       "    </tr>\n",
       "    <tr>\n",
       "      <th>customer_id</th>\n",
       "      <th>category</th>\n",
       "      <th>manufacturer</th>\n",
       "      <th></th>\n",
       "    </tr>\n",
       "  </thead>\n",
       "  <tbody>\n",
       "    <tr>\n",
       "      <th rowspan=\"3\" valign=\"top\">1001</th>\n",
       "      <th>Наушники</th>\n",
       "      <th>D</th>\n",
       "      <td>1</td>\n",
       "    </tr>\n",
       "    <tr>\n",
       "      <th rowspan=\"2\" valign=\"top\">Ноутбуки</th>\n",
       "      <th>A</th>\n",
       "      <td>1</td>\n",
       "    </tr>\n",
       "    <tr>\n",
       "      <th>C</th>\n",
       "      <td>1</td>\n",
       "    </tr>\n",
       "    <tr>\n",
       "      <th>1002</th>\n",
       "      <th>Смартфоны</th>\n",
       "      <th>B</th>\n",
       "      <td>1</td>\n",
       "    </tr>\n",
       "    <tr>\n",
       "      <th rowspan=\"3\" valign=\"top\">1003</th>\n",
       "      <th>Наушники</th>\n",
       "      <th>A</th>\n",
       "      <td>1</td>\n",
       "    </tr>\n",
       "    <tr>\n",
       "      <th>Планшеты</th>\n",
       "      <th>C</th>\n",
       "      <td>1</td>\n",
       "    </tr>\n",
       "    <tr>\n",
       "      <th>Смартфоны</th>\n",
       "      <th>C</th>\n",
       "      <td>1</td>\n",
       "    </tr>\n",
       "    <tr>\n",
       "      <th rowspan=\"2\" valign=\"top\">1004</th>\n",
       "      <th rowspan=\"2\" valign=\"top\">Телевизоры</th>\n",
       "      <th>D</th>\n",
       "      <td>1</td>\n",
       "    </tr>\n",
       "    <tr>\n",
       "      <th>E</th>\n",
       "      <td>1</td>\n",
       "    </tr>\n",
       "    <tr>\n",
       "      <th>1005</th>\n",
       "      <th>Ноутбуки</th>\n",
       "      <th>A</th>\n",
       "      <td>1</td>\n",
       "    </tr>\n",
       "    <tr>\n",
       "      <th rowspan=\"2\" valign=\"top\">1006</th>\n",
       "      <th>Планшеты</th>\n",
       "      <th>B</th>\n",
       "      <td>1</td>\n",
       "    </tr>\n",
       "    <tr>\n",
       "      <th>Смартфоны</th>\n",
       "      <th>D</th>\n",
       "      <td>1</td>\n",
       "    </tr>\n",
       "    <tr>\n",
       "      <th rowspan=\"2\" valign=\"top\">1007</th>\n",
       "      <th>Наушники</th>\n",
       "      <th>E</th>\n",
       "      <td>1</td>\n",
       "    </tr>\n",
       "    <tr>\n",
       "      <th>Ноутбуки</th>\n",
       "      <th>C</th>\n",
       "      <td>1</td>\n",
       "    </tr>\n",
       "    <tr>\n",
       "      <th rowspan=\"2\" valign=\"top\">1008</th>\n",
       "      <th>Ноутбуки</th>\n",
       "      <th>E</th>\n",
       "      <td>1</td>\n",
       "    </tr>\n",
       "    <tr>\n",
       "      <th>Планшеты</th>\n",
       "      <th>E</th>\n",
       "      <td>1</td>\n",
       "    </tr>\n",
       "    <tr>\n",
       "      <th rowspan=\"2\" valign=\"top\">1009</th>\n",
       "      <th>Наушники</th>\n",
       "      <th>A</th>\n",
       "      <td>1</td>\n",
       "    </tr>\n",
       "    <tr>\n",
       "      <th>Смартфоны</th>\n",
       "      <th>D</th>\n",
       "      <td>1</td>\n",
       "    </tr>\n",
       "    <tr>\n",
       "      <th rowspan=\"2\" valign=\"top\">1010</th>\n",
       "      <th>Планшеты</th>\n",
       "      <th>C</th>\n",
       "      <td>1</td>\n",
       "    </tr>\n",
       "    <tr>\n",
       "      <th>Телевизоры</th>\n",
       "      <th>B</th>\n",
       "      <td>1</td>\n",
       "    </tr>\n",
       "    <tr>\n",
       "      <th rowspan=\"2\" valign=\"top\">1011</th>\n",
       "      <th>Наушники</th>\n",
       "      <th>A</th>\n",
       "      <td>1</td>\n",
       "    </tr>\n",
       "    <tr>\n",
       "      <th>Телевизоры</th>\n",
       "      <th>B</th>\n",
       "      <td>1</td>\n",
       "    </tr>\n",
       "    <tr>\n",
       "      <th>1012</th>\n",
       "      <th>Ноутбуки</th>\n",
       "      <th>C</th>\n",
       "      <td>1</td>\n",
       "    </tr>\n",
       "    <tr>\n",
       "      <th>1013</th>\n",
       "      <th>Смартфоны</th>\n",
       "      <th>D</th>\n",
       "      <td>1</td>\n",
       "    </tr>\n",
       "    <tr>\n",
       "      <th>1014</th>\n",
       "      <th>Планшеты</th>\n",
       "      <th>E</th>\n",
       "      <td>1</td>\n",
       "    </tr>\n",
       "    <tr>\n",
       "      <th>1015</th>\n",
       "      <th>Телевизоры</th>\n",
       "      <th>B</th>\n",
       "      <td>1</td>\n",
       "    </tr>\n",
       "    <tr>\n",
       "      <th>1016</th>\n",
       "      <th>Планшеты</th>\n",
       "      <th>E</th>\n",
       "      <td>1</td>\n",
       "    </tr>\n",
       "    <tr>\n",
       "      <th>1017</th>\n",
       "      <th>Смартфоны</th>\n",
       "      <th>D</th>\n",
       "      <td>1</td>\n",
       "    </tr>\n",
       "    <tr>\n",
       "      <th>1018</th>\n",
       "      <th>Телевизоры</th>\n",
       "      <th>B</th>\n",
       "      <td>1</td>\n",
       "    </tr>\n",
       "  </tbody>\n",
       "</table>\n",
       "</div>"
      ],
      "text/plain": [
       "                                     nunique\n",
       "customer_id category   manufacturer         \n",
       "1001        Наушники   D                   1\n",
       "            Ноутбуки   A                   1\n",
       "                       C                   1\n",
       "1002        Смартфоны  B                   1\n",
       "1003        Наушники   A                   1\n",
       "            Планшеты   C                   1\n",
       "            Смартфоны  C                   1\n",
       "1004        Телевизоры D                   1\n",
       "                       E                   1\n",
       "1005        Ноутбуки   A                   1\n",
       "1006        Планшеты   B                   1\n",
       "            Смартфоны  D                   1\n",
       "1007        Наушники   E                   1\n",
       "            Ноутбуки   C                   1\n",
       "1008        Ноутбуки   E                   1\n",
       "            Планшеты   E                   1\n",
       "1009        Наушники   A                   1\n",
       "            Смартфоны  D                   1\n",
       "1010        Планшеты   C                   1\n",
       "            Телевизоры B                   1\n",
       "1011        Наушники   A                   1\n",
       "            Телевизоры B                   1\n",
       "1012        Ноутбуки   C                   1\n",
       "1013        Смартфоны  D                   1\n",
       "1014        Планшеты   E                   1\n",
       "1015        Телевизоры B                   1\n",
       "1016        Планшеты   E                   1\n",
       "1017        Смартфоны  D                   1\n",
       "1018        Телевизоры B                   1"
      ]
     },
     "execution_count": 98,
     "metadata": {},
     "output_type": "execute_result"
    }
   ],
   "source": [
    "unique_manufacturers_per_customer = (\n",
    "    merged_data.\n",
    "    groupby(['customer_id', 'category', 'manufacturer'])['manufacturer'].\n",
    "    agg({'nunique'})\n",
    ")\n",
    "unique_manufacturers_per_customer"
   ]
  },
  {
   "cell_type": "code",
   "execution_count": 99,
   "metadata": {},
   "outputs": [
    {
     "data": {
      "text/html": [
       "<div>\n",
       "<style scoped>\n",
       "    .dataframe tbody tr th:only-of-type {\n",
       "        vertical-align: middle;\n",
       "    }\n",
       "\n",
       "    .dataframe tbody tr th {\n",
       "        vertical-align: top;\n",
       "    }\n",
       "\n",
       "    .dataframe thead th {\n",
       "        text-align: right;\n",
       "    }\n",
       "</style>\n",
       "<table border=\"1\" class=\"dataframe\">\n",
       "  <thead>\n",
       "    <tr style=\"text-align: right;\">\n",
       "      <th></th>\n",
       "      <th>customer_id</th>\n",
       "      <th>nunique</th>\n",
       "    </tr>\n",
       "  </thead>\n",
       "  <tbody>\n",
       "    <tr>\n",
       "      <th>0</th>\n",
       "      <td>1001</td>\n",
       "      <td>0.200000</td>\n",
       "    </tr>\n",
       "    <tr>\n",
       "      <th>1</th>\n",
       "      <td>1002</td>\n",
       "      <td>0.066667</td>\n",
       "    </tr>\n",
       "    <tr>\n",
       "      <th>2</th>\n",
       "      <td>1003</td>\n",
       "      <td>0.200000</td>\n",
       "    </tr>\n",
       "    <tr>\n",
       "      <th>3</th>\n",
       "      <td>1004</td>\n",
       "      <td>0.133333</td>\n",
       "    </tr>\n",
       "    <tr>\n",
       "      <th>4</th>\n",
       "      <td>1005</td>\n",
       "      <td>0.066667</td>\n",
       "    </tr>\n",
       "    <tr>\n",
       "      <th>5</th>\n",
       "      <td>1006</td>\n",
       "      <td>0.133333</td>\n",
       "    </tr>\n",
       "    <tr>\n",
       "      <th>6</th>\n",
       "      <td>1007</td>\n",
       "      <td>0.133333</td>\n",
       "    </tr>\n",
       "    <tr>\n",
       "      <th>7</th>\n",
       "      <td>1008</td>\n",
       "      <td>0.133333</td>\n",
       "    </tr>\n",
       "    <tr>\n",
       "      <th>8</th>\n",
       "      <td>1009</td>\n",
       "      <td>0.133333</td>\n",
       "    </tr>\n",
       "    <tr>\n",
       "      <th>9</th>\n",
       "      <td>1010</td>\n",
       "      <td>0.133333</td>\n",
       "    </tr>\n",
       "    <tr>\n",
       "      <th>10</th>\n",
       "      <td>1011</td>\n",
       "      <td>0.133333</td>\n",
       "    </tr>\n",
       "    <tr>\n",
       "      <th>11</th>\n",
       "      <td>1012</td>\n",
       "      <td>0.066667</td>\n",
       "    </tr>\n",
       "    <tr>\n",
       "      <th>12</th>\n",
       "      <td>1013</td>\n",
       "      <td>0.066667</td>\n",
       "    </tr>\n",
       "    <tr>\n",
       "      <th>13</th>\n",
       "      <td>1014</td>\n",
       "      <td>0.066667</td>\n",
       "    </tr>\n",
       "    <tr>\n",
       "      <th>14</th>\n",
       "      <td>1015</td>\n",
       "      <td>0.066667</td>\n",
       "    </tr>\n",
       "    <tr>\n",
       "      <th>15</th>\n",
       "      <td>1016</td>\n",
       "      <td>0.066667</td>\n",
       "    </tr>\n",
       "    <tr>\n",
       "      <th>16</th>\n",
       "      <td>1017</td>\n",
       "      <td>0.066667</td>\n",
       "    </tr>\n",
       "    <tr>\n",
       "      <th>17</th>\n",
       "      <td>1018</td>\n",
       "      <td>0.066667</td>\n",
       "    </tr>\n",
       "  </tbody>\n",
       "</table>\n",
       "</div>"
      ],
      "text/plain": [
       "    customer_id   nunique\n",
       "0          1001  0.200000\n",
       "1          1002  0.066667\n",
       "2          1003  0.200000\n",
       "3          1004  0.133333\n",
       "4          1005  0.066667\n",
       "5          1006  0.133333\n",
       "6          1007  0.133333\n",
       "7          1008  0.133333\n",
       "8          1009  0.133333\n",
       "9          1010  0.133333\n",
       "10         1011  0.133333\n",
       "11         1012  0.066667\n",
       "12         1013  0.066667\n",
       "13         1014  0.066667\n",
       "14         1015  0.066667\n",
       "15         1016  0.066667\n",
       "16         1017  0.066667\n",
       "17         1018  0.066667"
      ]
     },
     "execution_count": 99,
     "metadata": {},
     "output_type": "execute_result"
    }
   ],
   "source": [
    "percent_from_total = (\n",
    "    unique_manufacturers_per_customer.\n",
    "    groupby('customer_id').\n",
    "    sum().\n",
    "    apply(lambda x: x / total_manufactures).\n",
    "    reset_index()\n",
    ")\n",
    "percent_from_total"
   ]
  },
  {
   "cell_type": "code",
   "execution_count": 100,
   "metadata": {},
   "outputs": [
    {
     "data": {
      "text/plain": [
       "[1001, 1003]"
      ]
     },
     "execution_count": 100,
     "metadata": {},
     "output_type": "execute_result"
    }
   ],
   "source": [
    "customers_with_more_than_15 = (\n",
    "    percent_from_total[percent_from_total['nunique'] > 0.15]['customer_id'].\n",
    "    tolist()\n",
    ")\n",
    "# customers_with_more_than_15['customer_id'].tolist()\n",
    "customers_with_more_than_15"
   ]
  },
  {
   "cell_type": "markdown",
   "metadata": {},
   "source": [
    "**Ответ:**\n",
    "* Покупатели с customer_id = 1001 и customer_id = 1003 купили у более чем 15% уникальных производителей."
   ]
  },
  {
   "cell_type": "markdown",
   "metadata": {},
   "source": [
    "### 3.13. Какое максимальное количество продуктов было продано в один заказ? <a id='21'></a>"
   ]
  },
  {
   "cell_type": "code",
   "execution_count": 101,
   "metadata": {},
   "outputs": [
    {
     "data": {
      "text/plain": [
       "4"
      ]
     },
     "execution_count": 101,
     "metadata": {},
     "output_type": "execute_result"
    }
   ],
   "source": [
    "max_quantity_per_order = (\n",
    "    sales_data.\n",
    "    groupby('order_id')['quantity'].\n",
    "    sum().\n",
    "    max()\n",
    ")\n",
    "max_quantity_per_order"
   ]
  },
  {
   "cell_type": "markdown",
   "metadata": {},
   "source": [
    "**Ответ:**\n",
    "* Максимальное количество продуктов, которое было продано в одном заказе, равно 4."
   ]
  },
  {
   "cell_type": "markdown",
   "metadata": {},
   "source": [
    "### 3.14. Какой производитель имеет самую высокую среднюю цену продукта среди всех категорий? <a id='22'></a>"
   ]
  },
  {
   "cell_type": "code",
   "execution_count": 102,
   "metadata": {},
   "outputs": [
    {
     "data": {
      "text/plain": [
       "manufacturer  category  \n",
       "A             Наушники       462.500000\n",
       "              Ноутбуки       550.000000\n",
       "B             Планшеты       450.000000\n",
       "              Смартфоны      800.000000\n",
       "              Телевизоры     537.500000\n",
       "C             Ноутбуки       583.333333\n",
       "              Планшеты       600.000000\n",
       "              Смартфоны      200.000000\n",
       "D             Наушники       400.000000\n",
       "              Смартфоны      356.250000\n",
       "              Телевизоры     350.000000\n",
       "E             Наушники      1000.000000\n",
       "              Ноутбуки       750.000000\n",
       "              Планшеты       550.000000\n",
       "              Телевизоры     700.000000\n",
       "Name: price_per_unit, dtype: float64"
      ]
     },
     "execution_count": 102,
     "metadata": {},
     "output_type": "execute_result"
    }
   ],
   "source": [
    "average_price_per_manufacturer_per_category = (\n",
    "    merged_data.\n",
    "    groupby(['manufacturer', 'category'])['price_per_unit'].\n",
    "    mean()\n",
    ")\n",
    "average_price_per_manufacturer_per_category"
   ]
  },
  {
   "cell_type": "code",
   "execution_count": 103,
   "metadata": {},
   "outputs": [
    {
     "data": {
      "text/plain": [
       "'E'"
      ]
     },
     "execution_count": 103,
     "metadata": {},
     "output_type": "execute_result"
    }
   ],
   "source": [
    "manufacturer_with_highest_average_price = (\n",
    "    average_price_per_manufacturer_per_category.\n",
    "    groupby('manufacturer').\n",
    "    mean().\n",
    "    idxmax()\n",
    ")\n",
    "manufacturer_with_highest_average_price"
   ]
  },
  {
   "cell_type": "markdown",
   "metadata": {},
   "source": [
    "**Ответ:**\n",
    "* Производитель 'E' имеет самую высокую среднюю цену продукта среди всех категорий."
   ]
  },
  {
   "cell_type": "markdown",
   "metadata": {},
   "source": [
    "### 3.15. Каково общее количество уникальных производителей, чьи продукты были куплены менее, чем в 3 регионах? <a id='23'></a>"
   ]
  },
  {
   "cell_type": "code",
   "execution_count": 104,
   "metadata": {},
   "outputs": [
    {
     "data": {
      "text/plain": [
       "manufacturer  region\n",
       "A             Восток    1\n",
       "              Запад     1\n",
       "              Север     1\n",
       "              Юг        1\n",
       "B             Восток    1\n",
       "              Запад     1\n",
       "              Север     1\n",
       "              Юг        1\n",
       "C             Восток    1\n",
       "              Запад     1\n",
       "              Север     1\n",
       "              Юг        1\n",
       "D             Восток    1\n",
       "              Запад     1\n",
       "              Север     1\n",
       "              Юг        1\n",
       "E             Восток    1\n",
       "              Запад     1\n",
       "              Север     1\n",
       "              Юг        1\n",
       "Name: region, dtype: int64"
      ]
     },
     "execution_count": 104,
     "metadata": {},
     "output_type": "execute_result"
    }
   ],
   "source": [
    "unique_regions_per_manufacturer = (\n",
    "    merged_data.\n",
    "    groupby(['manufacturer', 'region'])['region'].\n",
    "    nunique()\n",
    ")\n",
    "unique_regions_per_manufacturer"
   ]
  },
  {
   "cell_type": "code",
   "execution_count": 105,
   "metadata": {},
   "outputs": [
    {
     "data": {
      "text/plain": [
       "manufacturer\n",
       "A    False\n",
       "B    False\n",
       "C    False\n",
       "D    False\n",
       "E    False\n",
       "Name: region, dtype: bool"
      ]
     },
     "execution_count": 105,
     "metadata": {},
     "output_type": "execute_result"
    }
   ],
   "source": [
    "manufacturers_with_products_in_multiple_regions = (\n",
    "    unique_regions_per_manufacturer.\n",
    "    groupby('manufacturer').\n",
    "    apply(lambda x: (len(x) <= 2))\n",
    ")\n",
    "manufacturers_with_products_in_multiple_regions"
   ]
  },
  {
   "cell_type": "code",
   "execution_count": 106,
   "metadata": {},
   "outputs": [
    {
     "data": {
      "text/plain": [
       "0"
      ]
     },
     "execution_count": 106,
     "metadata": {},
     "output_type": "execute_result"
    }
   ],
   "source": [
    "total_manufacturers_with_products_in_multiple_regions = (\n",
    "    manufacturers_with_products_in_multiple_regions.\n",
    "    sum()\n",
    ")\n",
    "total_manufacturers_with_products_in_multiple_regions"
   ]
  },
  {
   "cell_type": "markdown",
   "metadata": {},
   "source": [
    "**Ответ:**\n",
    "* Общее количество уникальных производителей, чьи продукты были куплены менее чем в 3 регионах, равно 0."
   ]
  },
  {
   "cell_type": "markdown",
   "metadata": {},
   "source": [
    "## Этап 4. Общий вывод <a id='24'></a>"
   ]
  },
  {
   "cell_type": "markdown",
   "metadata": {},
   "source": [
    "В ходе исследования данных о продажах и продуктах интернет-магазина мы сделали проверку на наличие некорректных значений — пропусков и дубликатов. Преобразовали данные в нужный формат. Ответили на 15 различных вопросов (ad-hoc запросов). Написали код для решения каждой задачи.\n",
    "\n",
    "1. Наибольшее количество продуктов категории \"Смартфоны\" было продано в регионе 'Восток'.\n",
    "2. Разница между макс. и мин. средней ценой продуктов категории \"Ноутбуки\" между всеми производителями составляет 200 у.е..\n",
    "3. Покупатель с customer_id = 1003 совершил заказы на наибольшую сумму по всем временам.\n",
    "4. Доля продаж продуктов категории \"Планшеты\" от общей выручки за все время равна 0.25.\n",
    "5. Разница в средней цене продуктов категории \"Смартфоны\" между двумя самыми крупными регионами по продажам (Востоком и Югом) равна 275.\n",
    "6. В среднем по всем регионам было продано 5 уникальных категорий продуктов.\n",
    "7. Производитель 'E' представлен в наибольшем количестве различных категорий продуктов.\n",
    "8. В 8 месяце (августе) было продано больше всего продуктов категории \"Планшеты\" в регионе \"Север\".\n",
    "9. Производитель 'B' продал продукты на наибольшую сумму в регионе \"Юг\" за март 2023 года.\n",
    "10. 1 покупатель совершил заказы на продукты хотя бы трех разных категорий.\n",
    "11. Доля продаж продуктов производителя \"C\" от общей выручки за все время в регионе \"Север\" равна 0.27.\n",
    "12. Покупатели с customer_id = 1001 и customer_id = 1003 купили у более чем 15% уникальных производителей.\n",
    "13. Максимальное количество продуктов, которое было продано в одном заказе, равно 4.\n",
    "14. Производитель 'E' имеет самую высокую среднюю цену продукта среди всех категорий.\n",
    "15. Общее количество уникальных производителей, чьи продукты были куплены менее чем в 3 регионах, равно 0."
   ]
  }
 ],
 "metadata": {
  "kernelspec": {
   "display_name": "Python 3",
   "language": "python",
   "name": "python3"
  },
  "language_info": {
   "codemirror_mode": {
    "name": "ipython",
    "version": 3
   },
   "file_extension": ".py",
   "mimetype": "text/x-python",
   "name": "python",
   "nbconvert_exporter": "python",
   "pygments_lexer": "ipython3",
   "version": "3.7.4"
  }
 },
 "nbformat": 4,
 "nbformat_minor": 5
}
